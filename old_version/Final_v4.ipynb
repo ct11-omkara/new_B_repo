{
 "cells": [
  {
   "cell_type": "code",
   "execution_count": 1,
   "id": "45ef456f",
   "metadata": {},
   "outputs": [],
   "source": [
    "import pandas as pd\n",
    "import numpy as np\n",
    "import os\n",
    "import seaborn as sns\n",
    "import matplotlib.pyplot as plt\n",
    "from sklearn.datasets import make_regression\n",
    "from collections import Counter"
   ]
  },
  {
   "cell_type": "code",
   "execution_count": 2,
   "id": "9c715f56",
   "metadata": {},
   "outputs": [
    {
     "data": {
      "text/plain": [
       "Index(['#', 'Machine Type', 'Machine', 'Wing', 'Floor', 'Run No', 'Pcs',\n",
       "       'StartDate', 'StartTime', 'StopDate', 'StopTime', 'Run %',\n",
       "       'LateStartReason', 'Stop Reasons', 'Recipe', 'Run Intensity',\n",
       "       'Ini Category', 'Grown Category', 'RunStatus', 'IniAvgHeight',\n",
       "       'ProdHeight', 'GrownHeight', 'GrowingHours', 'BreakdownTime',\n",
       "       'From To Hours', 'Actual Hours', 'RunHours', 'IniWeight', 'FinalWeight',\n",
       "       'GrownWeight', 'Width', 'Length', 'Dmtr', 'Unit', 'Month', 'GrRate'],\n",
       "      dtype='object')"
      ]
     },
     "execution_count": 2,
     "metadata": {},
     "output_type": "execute_result"
    }
   ],
   "source": [
    "mainDF = pd.read_excel(\"Data//October_10//LabHoursData.xlsx\")\n",
    "mainDF.columns"
   ]
  },
  {
   "cell_type": "code",
   "execution_count": 3,
   "id": "aecb24dc",
   "metadata": {},
   "outputs": [
    {
     "data": {
      "text/html": [
       "<div>\n",
       "<style scoped>\n",
       "    .dataframe tbody tr th:only-of-type {\n",
       "        vertical-align: middle;\n",
       "    }\n",
       "\n",
       "    .dataframe tbody tr th {\n",
       "        vertical-align: top;\n",
       "    }\n",
       "\n",
       "    .dataframe thead th {\n",
       "        text-align: right;\n",
       "    }\n",
       "</style>\n",
       "<table border=\"1\" class=\"dataframe\">\n",
       "  <thead>\n",
       "    <tr style=\"text-align: right;\">\n",
       "      <th></th>\n",
       "      <th>Machine_Type</th>\n",
       "      <th>Machine</th>\n",
       "      <th>GrownWeight</th>\n",
       "      <th>ProdHeight</th>\n",
       "      <th>Dmtr</th>\n",
       "      <th>Actual_Hours</th>\n",
       "      <th>GrRate</th>\n",
       "      <th>Stop_Reasons</th>\n",
       "      <th>LateStartReason</th>\n",
       "    </tr>\n",
       "  </thead>\n",
       "  <tbody>\n",
       "    <tr>\n",
       "      <th>5303</th>\n",
       "      <td>New</td>\n",
       "      <td>AG42</td>\n",
       "      <td>59.228665</td>\n",
       "      <td>3.358553</td>\n",
       "      <td>41.13</td>\n",
       "      <td>192.0</td>\n",
       "      <td>12.14</td>\n",
       "      <td>TIDE O , N/A</td>\n",
       "      <td>ON TIME</td>\n",
       "    </tr>\n",
       "    <tr>\n",
       "      <th>5304</th>\n",
       "      <td>NaN</td>\n",
       "      <td>NaN</td>\n",
       "      <td>NaN</td>\n",
       "      <td>NaN</td>\n",
       "      <td>NaN</td>\n",
       "      <td>NaN</td>\n",
       "      <td>Avg: 12.51</td>\n",
       "      <td>NaN</td>\n",
       "      <td>NaN</td>\n",
       "    </tr>\n",
       "  </tbody>\n",
       "</table>\n",
       "</div>"
      ],
      "text/plain": [
       "     Machine_Type Machine  GrownWeight  ProdHeight   Dmtr  Actual_Hours  \\\n",
       "5303          New    AG42    59.228665    3.358553  41.13         192.0   \n",
       "5304          NaN     NaN          NaN         NaN    NaN           NaN   \n",
       "\n",
       "          GrRate  Stop_Reasons LateStartReason  \n",
       "5303       12.14  TIDE O , N/A         ON TIME  \n",
       "5304  Avg: 12.51           NaN             NaN  "
      ]
     },
     "execution_count": 3,
     "metadata": {},
     "output_type": "execute_result"
    }
   ],
   "source": [
    "#remove = \"BreakdownTime\", \"GrowingHours\"\n",
    "final_DF = mainDF[[\"Machine Type\", \"Machine\", \"GrownWeight\", \"ProdHeight\", \"Dmtr\", \n",
    "                   \"Actual Hours\", \"GrRate\", \"Stop Reasons\", \"LateStartReason\"]]\n",
    "#final_DF[final_DF.isna().any(axis=1)]\n",
    "final_DF = final_DF.rename(columns = {'Machine Type':'Machine_Type', 'Stop Reasons':'Stop_Reasons', 'Actual Hours':'Actual_Hours'})\n",
    "\n",
    "final_DF.tail(2)"
   ]
  },
  {
   "cell_type": "code",
   "execution_count": 4,
   "id": "98077089",
   "metadata": {},
   "outputs": [
    {
     "data": {
      "text/plain": [
       "Int64Index([5304], dtype='int64')"
      ]
     },
     "execution_count": 4,
     "metadata": {},
     "output_type": "execute_result"
    }
   ],
   "source": [
    "nullID = final_DF[final_DF[['Machine_Type','Machine','GrownWeight', 'ProdHeight','Dmtr', \\\n",
    "                            'Actual_Hours', 'GrRate']].isna().any(axis=1)].index\n",
    "nullID"
   ]
  },
  {
   "cell_type": "code",
   "execution_count": 5,
   "id": "a0fa4277",
   "metadata": {},
   "outputs": [],
   "source": [
    "final_DF = final_DF.drop(nullID)"
   ]
  },
  {
   "cell_type": "code",
   "execution_count": 6,
   "id": "3c3b4cfb",
   "metadata": {},
   "outputs": [
    {
     "data": {
      "text/html": [
       "<div>\n",
       "<style scoped>\n",
       "    .dataframe tbody tr th:only-of-type {\n",
       "        vertical-align: middle;\n",
       "    }\n",
       "\n",
       "    .dataframe tbody tr th {\n",
       "        vertical-align: top;\n",
       "    }\n",
       "\n",
       "    .dataframe thead th {\n",
       "        text-align: right;\n",
       "    }\n",
       "</style>\n",
       "<table border=\"1\" class=\"dataframe\">\n",
       "  <thead>\n",
       "    <tr style=\"text-align: right;\">\n",
       "      <th></th>\n",
       "      <th>Machine_Type</th>\n",
       "      <th>Machine</th>\n",
       "      <th>GrownWeight</th>\n",
       "      <th>ProdHeight</th>\n",
       "      <th>Dmtr</th>\n",
       "      <th>Actual_Hours</th>\n",
       "      <th>GrRate</th>\n",
       "      <th>Stop_Reasons</th>\n",
       "      <th>LateStartReason</th>\n",
       "    </tr>\n",
       "  </thead>\n",
       "  <tbody>\n",
       "    <tr>\n",
       "      <th>0</th>\n",
       "      <td>Old</td>\n",
       "      <td>CA2</td>\n",
       "      <td>97.87</td>\n",
       "      <td>3.777692</td>\n",
       "      <td>50.71</td>\n",
       "      <td>180.0</td>\n",
       "      <td>13.67</td>\n",
       "      <td>TIDE O , V LEAK</td>\n",
       "      <td>ON TIME</td>\n",
       "    </tr>\n",
       "    <tr>\n",
       "      <th>1</th>\n",
       "      <td>Old</td>\n",
       "      <td>CA2</td>\n",
       "      <td>76.91</td>\n",
       "      <td>4.452222</td>\n",
       "      <td>46.92</td>\n",
       "      <td>160.0</td>\n",
       "      <td>13.56</td>\n",
       "      <td>TIDE O , V LEAK</td>\n",
       "      <td>ON TIME</td>\n",
       "    </tr>\n",
       "  </tbody>\n",
       "</table>\n",
       "</div>"
      ],
      "text/plain": [
       "  Machine_Type Machine  GrownWeight  ProdHeight   Dmtr  Actual_Hours GrRate  \\\n",
       "0          Old     CA2        97.87    3.777692  50.71         180.0  13.67   \n",
       "1          Old     CA2        76.91    4.452222  46.92         160.0  13.56   \n",
       "\n",
       "      Stop_Reasons LateStartReason  \n",
       "0  TIDE O , V LEAK         ON TIME  \n",
       "1  TIDE O , V LEAK         ON TIME  "
      ]
     },
     "execution_count": 6,
     "metadata": {},
     "output_type": "execute_result"
    }
   ],
   "source": [
    "final_DF.head(2)"
   ]
  },
  {
   "cell_type": "code",
   "execution_count": 7,
   "id": "d59c733a",
   "metadata": {},
   "outputs": [],
   "source": [
    "def count_words(df_temp,column_name):\n",
    "    df_temp[column_name] = df_temp[column_name].str.rstrip('')\n",
    "    df_temp[column_name] = df_temp[column_name].str.lstrip('')\n",
    "\n",
    "    df_temp[column_name] = df_temp[column_name].str.replace(' ,',',')\n",
    "    df_temp[column_name] = df_temp[column_name].str.replace(', ',',')\n",
    "    df_temp[column_name] = df_temp[column_name].str.replace(' ,',',')\n",
    "    df_temp[column_name] = df_temp[column_name].str.replace(', ',',')\n",
    "    df_temp[column_name] = df_temp[column_name].str.replace(',,',',')\n",
    "\n",
    "    df_temp[column_name] = df_temp[column_name].str.replace('\\' ','\\'')\n",
    "    df_temp[column_name] = df_temp[column_name].str.replace(' \\'','\\'')\n",
    "\n",
    "    df_temp[column_name] = df_temp[column_name].str.rstrip(',')\n",
    "    df_temp[column_name] = df_temp[column_name].str.lstrip(',')\n",
    "\n",
    "    df_temp[column_name] = df_temp[column_name].str.split(',')\n",
    "    df_temp[column_name] = df_temp[column_name].apply(lambda x: Counter(x))\n",
    "    \n",
    "    df_temp[column_name] = df_temp[column_name].apply(lambda x: dict(x))\n",
    "    \n",
    "    return df_temp"
   ]
  },
  {
   "cell_type": "code",
   "execution_count": 8,
   "id": "06ada5b8",
   "metadata": {},
   "outputs": [],
   "source": [
    "#join all string values of Stop_Reasons in groupby\n",
    "df_Stop_reason = final_DF.groupby(['Machine','Machine_Type'])['Stop_Reasons'].agg(lambda x: ','.join(x.dropna())).reset_index()\n",
    "\n",
    "#join all string values of LateStartReason in groupby\n",
    "df_LateStartReason = final_DF.groupby(['Machine','Machine_Type'])['LateStartReason'].agg(lambda x: ','.join(x.dropna())).reset_index()"
   ]
  },
  {
   "cell_type": "code",
   "execution_count": 9,
   "id": "b7800f92",
   "metadata": {},
   "outputs": [
    {
     "data": {
      "text/plain": [
       "Index(['Machine_Type', 'Machine', 'GrownWeight', 'ProdHeight', 'Dmtr',\n",
       "       'Actual_Hours', 'GrRate', 'Stop_Reasons', 'LateStartReason'],\n",
       "      dtype='object')"
      ]
     },
     "execution_count": 9,
     "metadata": {},
     "output_type": "execute_result"
    }
   ],
   "source": [
    "final_DF.columns"
   ]
  },
  {
   "cell_type": "code",
   "execution_count": 10,
   "id": "02e21bb6",
   "metadata": {},
   "outputs": [],
   "source": [
    "df_Stop_reason['Stop_Reasons_counts'] = df_Stop_reason['Stop_Reasons']\n",
    "df_Stop_reason = count_words(df_Stop_reason,'Stop_Reasons_counts')\n",
    "\n",
    "df_LateStartReason['LateStartReason_counts'] = df_LateStartReason['LateStartReason']\n",
    "df_LateStartReason = count_words(df_LateStartReason,'LateStartReason_counts')"
   ]
  },
  {
   "cell_type": "code",
   "execution_count": 11,
   "id": "4ce20eb7",
   "metadata": {},
   "outputs": [],
   "source": [
    "final_DF.GrownWeight = pd.to_numeric(final_DF.GrownWeight)\n",
    "final_DF.ProdHeight = pd.to_numeric(final_DF.ProdHeight)\n",
    "final_DF.Dmtr = pd.to_numeric(final_DF.Dmtr)\n",
    "final_DF.Actual_Hours = pd.to_numeric(final_DF.Actual_Hours)\n",
    "final_DF.GrRate = pd.to_numeric(final_DF.GrRate)"
   ]
  },
  {
   "cell_type": "code",
   "execution_count": 12,
   "id": "71194d70",
   "metadata": {},
   "outputs": [
    {
     "name": "stderr",
     "output_type": "stream",
     "text": [
      "C:\\Users\\Administrator\\AppData\\Local\\Temp\\ipykernel_10988\\700123846.py:3: FutureWarning: Indexing with multiple keys (implicitly converted to a tuple of keys) will be deprecated, use a list instead.\n",
      "  final_DF.groupby(['Machine', 'Machine_Type'])['GrRate', 'Actual_Hours', 'ProdHeight','Dmtr'].mean().reset_index(),\n"
     ]
    }
   ],
   "source": [
    "df_machine_less35 = pd.merge(\n",
    "        final_DF.groupby(['Machine', 'Machine_Type'])['GrownWeight'].sum().reset_index(),\n",
    "        final_DF.groupby(['Machine', 'Machine_Type'])['GrRate', 'Actual_Hours', 'ProdHeight','Dmtr'].mean().reset_index(), \n",
    "                                      how=\"left\", on=[\"Machine\", \"Machine_Type\"])"
   ]
  },
  {
   "cell_type": "code",
   "execution_count": 13,
   "id": "8589ed10",
   "metadata": {},
   "outputs": [
    {
     "data": {
      "text/html": [
       "<div>\n",
       "<style scoped>\n",
       "    .dataframe tbody tr th:only-of-type {\n",
       "        vertical-align: middle;\n",
       "    }\n",
       "\n",
       "    .dataframe tbody tr th {\n",
       "        vertical-align: top;\n",
       "    }\n",
       "\n",
       "    .dataframe thead th {\n",
       "        text-align: right;\n",
       "    }\n",
       "</style>\n",
       "<table border=\"1\" class=\"dataframe\">\n",
       "  <thead>\n",
       "    <tr style=\"text-align: right;\">\n",
       "      <th></th>\n",
       "      <th>Machine</th>\n",
       "      <th>Machine_Type</th>\n",
       "      <th>GrownWeight</th>\n",
       "      <th>GrRate</th>\n",
       "      <th>Actual_Hours</th>\n",
       "      <th>ProdHeight</th>\n",
       "      <th>Dmtr</th>\n",
       "    </tr>\n",
       "  </thead>\n",
       "  <tbody>\n",
       "    <tr>\n",
       "      <th>0</th>\n",
       "      <td>AA1</td>\n",
       "      <td>Old</td>\n",
       "      <td>264.03016</td>\n",
       "      <td>12.855</td>\n",
       "      <td>136.533333</td>\n",
       "      <td>3.069045</td>\n",
       "      <td>41.901667</td>\n",
       "    </tr>\n",
       "    <tr>\n",
       "      <th>1</th>\n",
       "      <td>AA10</td>\n",
       "      <td>Old</td>\n",
       "      <td>272.45215</td>\n",
       "      <td>11.910</td>\n",
       "      <td>140.900000</td>\n",
       "      <td>3.240711</td>\n",
       "      <td>44.670000</td>\n",
       "    </tr>\n",
       "  </tbody>\n",
       "</table>\n",
       "</div>"
      ],
      "text/plain": [
       "  Machine Machine_Type  GrownWeight  GrRate  Actual_Hours  ProdHeight  \\\n",
       "0     AA1          Old    264.03016  12.855    136.533333    3.069045   \n",
       "1    AA10          Old    272.45215  11.910    140.900000    3.240711   \n",
       "\n",
       "        Dmtr  \n",
       "0  41.901667  \n",
       "1  44.670000  "
      ]
     },
     "execution_count": 13,
     "metadata": {},
     "output_type": "execute_result"
    }
   ],
   "source": [
    "df_machine_less35.head(2)"
   ]
  },
  {
   "cell_type": "code",
   "execution_count": 14,
   "id": "522f0f69",
   "metadata": {},
   "outputs": [],
   "source": [
    "df_machine_less35.index.name = \"ID\"\n",
    "df_machine_less35.reset_index(inplace=True)"
   ]
  },
  {
   "cell_type": "code",
   "execution_count": 15,
   "id": "39b239df",
   "metadata": {},
   "outputs": [
    {
     "data": {
      "text/html": [
       "<div>\n",
       "<style scoped>\n",
       "    .dataframe tbody tr th:only-of-type {\n",
       "        vertical-align: middle;\n",
       "    }\n",
       "\n",
       "    .dataframe tbody tr th {\n",
       "        vertical-align: top;\n",
       "    }\n",
       "\n",
       "    .dataframe thead th {\n",
       "        text-align: right;\n",
       "    }\n",
       "</style>\n",
       "<table border=\"1\" class=\"dataframe\">\n",
       "  <thead>\n",
       "    <tr style=\"text-align: right;\">\n",
       "      <th></th>\n",
       "      <th>ID</th>\n",
       "      <th>Machine</th>\n",
       "      <th>Machine_Type</th>\n",
       "      <th>GrownWeight</th>\n",
       "      <th>GrRate</th>\n",
       "      <th>Actual_Hours</th>\n",
       "      <th>ProdHeight</th>\n",
       "      <th>Dmtr</th>\n",
       "    </tr>\n",
       "  </thead>\n",
       "  <tbody>\n",
       "    <tr>\n",
       "      <th>0</th>\n",
       "      <td>0</td>\n",
       "      <td>AA1</td>\n",
       "      <td>Old</td>\n",
       "      <td>264.03016</td>\n",
       "      <td>12.855</td>\n",
       "      <td>136.533333</td>\n",
       "      <td>3.069045</td>\n",
       "      <td>41.901667</td>\n",
       "    </tr>\n",
       "    <tr>\n",
       "      <th>1</th>\n",
       "      <td>1</td>\n",
       "      <td>AA10</td>\n",
       "      <td>Old</td>\n",
       "      <td>272.45215</td>\n",
       "      <td>11.910</td>\n",
       "      <td>140.900000</td>\n",
       "      <td>3.240711</td>\n",
       "      <td>44.670000</td>\n",
       "    </tr>\n",
       "  </tbody>\n",
       "</table>\n",
       "</div>"
      ],
      "text/plain": [
       "   ID Machine Machine_Type  GrownWeight  GrRate  Actual_Hours  ProdHeight  \\\n",
       "0   0     AA1          Old    264.03016  12.855    136.533333    3.069045   \n",
       "1   1    AA10          Old    272.45215  11.910    140.900000    3.240711   \n",
       "\n",
       "        Dmtr  \n",
       "0  41.901667  \n",
       "1  44.670000  "
      ]
     },
     "execution_count": 15,
     "metadata": {},
     "output_type": "execute_result"
    }
   ],
   "source": [
    "df_machine_less35.head(2)"
   ]
  },
  {
   "cell_type": "code",
   "execution_count": 16,
   "id": "5c4322a5",
   "metadata": {},
   "outputs": [],
   "source": [
    "df_machine_less35[\"GrownWeight_less_35\"] = df_machine_less35['GrownWeight'] - (df_machine_less35[\"GrownWeight\"] * 35 / 100)\n",
    "df_machine_less35[\"GrRate_rank\"] = df_machine_less35['GrRate'].apply(lambda x: 1 if (x>12.50 and x<=13.00 ) else 0)"
   ]
  },
  {
   "cell_type": "code",
   "execution_count": 17,
   "id": "0298d445",
   "metadata": {},
   "outputs": [],
   "source": []
  },
  {
   "cell_type": "code",
   "execution_count": 18,
   "id": "88822a61",
   "metadata": {},
   "outputs": [],
   "source": [
    "def add_sorting_rank_to_column(temp_df, column_name, ascending_order):\n",
    "    temp_df[column_name] = pd.to_numeric(temp_df[column_name])\n",
    "    temp_df = temp_df.sort_values(by=[column_name], ascending=ascending_order).reset_index()\n",
    "    temp_df.index.name = column_name + \"_rank\"\n",
    "    temp_df = temp_df.reset_index()\n",
    "    temp_df[column_name + \"_rank\"] += 1\n",
    "    temp_df.index.name = \"delete_\" + column_name\n",
    "    return temp_df"
   ]
  },
  {
   "cell_type": "code",
   "execution_count": null,
   "id": "4166b7cb",
   "metadata": {},
   "outputs": [],
   "source": []
  },
  {
   "cell_type": "code",
   "execution_count": 19,
   "id": "951bc393",
   "metadata": {},
   "outputs": [],
   "source": [
    "df_machine_less35 = add_sorting_rank_to_column(df_machine_less35, \"GrownWeight\", False)\n",
    "df_machine_less35 = add_sorting_rank_to_column(df_machine_less35, \"Actual_Hours\", False)\n",
    "df_machine_less35 = add_sorting_rank_to_column(df_machine_less35, \"ProdHeight\", False)\n",
    "df_machine_less35 = add_sorting_rank_to_column(df_machine_less35, \"Dmtr\", False)\n",
    "df_machine_less35 = df_machine_less35.reset_index()\n",
    "df_machine_less35 = df_machine_less35.drop([\"delete_Dmtr\",\"delete_ProdHeight\",\"delete_Actual_Hours\",\"delete_GrownWeight\",\"index\"], axis=1)"
   ]
  },
  {
   "cell_type": "code",
   "execution_count": null,
   "id": "9fc77a44",
   "metadata": {},
   "outputs": [],
   "source": []
  },
  {
   "cell_type": "code",
   "execution_count": 20,
   "id": "69e67ac4",
   "metadata": {},
   "outputs": [],
   "source": [
    "df_machine_less35['Total_rank'] = df_machine_less35['GrownWeight_rank'] + df_machine_less35['Dmtr_rank'] + \\\n",
    "                                        df_machine_less35['Actual_Hours_rank'] + df_machine_less35[\"ProdHeight_rank\"]"
   ]
  },
  {
   "cell_type": "code",
   "execution_count": 21,
   "id": "6d97dd45",
   "metadata": {},
   "outputs": [],
   "source": [
    "df_results = pd.merge(pd.merge(df_machine_less35,df_Stop_reason,how=\"left\", on=[\"Machine\", \"Machine_Type\"]),df_LateStartReason,how=\"left\", on=[\"Machine\", \"Machine_Type\"])"
   ]
  },
  {
   "cell_type": "code",
   "execution_count": 22,
   "id": "864ca1b7",
   "metadata": {},
   "outputs": [],
   "source": [
    "df_results = df_results[['ID','Machine_Type','Machine','GrownWeight','GrownWeight_less_35','Dmtr','Actual_Hours', \n",
    "                         'ProdHeight','GrRate','GrownWeight_rank','Actual_Hours_rank', 'ProdHeight_rank', 'Dmtr_rank',\n",
    "                         'GrRate_rank','Total_rank','Stop_Reasons_counts', 'LateStartReason_counts']]"
   ]
  },
  {
   "cell_type": "code",
   "execution_count": 23,
   "id": "f401d57c",
   "metadata": {},
   "outputs": [],
   "source": [
    "df_results = df_results.sort_values(by=['ID'])\n",
    "df_results = df_results.set_index(\"ID\")\n",
    "if df_results.index[0] == 0:\n",
    "    df_results.index += 1"
   ]
  },
  {
   "cell_type": "code",
   "execution_count": 24,
   "id": "8dd258cd",
   "metadata": {},
   "outputs": [],
   "source": [
    "if os.path.exists(\"final.xlsx\"):\n",
    "    os.remove(\"final.xlsx\")\n",
    "    \n",
    "df_results.to_excel(\"final.xlsx\", header=1, index_label=\"ID\")"
   ]
  },
  {
   "cell_type": "code",
   "execution_count": null,
   "id": "c8bcf994",
   "metadata": {},
   "outputs": [],
   "source": []
  },
  {
   "cell_type": "code",
   "execution_count": null,
   "id": "9917af49",
   "metadata": {},
   "outputs": [],
   "source": []
  },
  {
   "cell_type": "code",
   "execution_count": null,
   "id": "0663ed88",
   "metadata": {},
   "outputs": [],
   "source": []
  },
  {
   "cell_type": "code",
   "execution_count": null,
   "id": "2ad9053c",
   "metadata": {},
   "outputs": [],
   "source": []
  },
  {
   "cell_type": "code",
   "execution_count": null,
   "id": "dbb7ba87",
   "metadata": {},
   "outputs": [],
   "source": []
  },
  {
   "cell_type": "code",
   "execution_count": null,
   "id": "24737273",
   "metadata": {},
   "outputs": [],
   "source": []
  },
  {
   "cell_type": "code",
   "execution_count": null,
   "id": "b138f08f",
   "metadata": {},
   "outputs": [],
   "source": []
  },
  {
   "cell_type": "code",
   "execution_count": null,
   "id": "a8841f60",
   "metadata": {},
   "outputs": [],
   "source": []
  },
  {
   "cell_type": "code",
   "execution_count": null,
   "id": "58f625d2",
   "metadata": {},
   "outputs": [],
   "source": []
  },
  {
   "cell_type": "code",
   "execution_count": null,
   "id": "4d789dc5",
   "metadata": {},
   "outputs": [],
   "source": []
  },
  {
   "cell_type": "code",
   "execution_count": null,
   "id": "2879450b",
   "metadata": {},
   "outputs": [],
   "source": []
  },
  {
   "cell_type": "code",
   "execution_count": 25,
   "id": "9bb409a2",
   "metadata": {},
   "outputs": [
    {
     "data": {
      "text/html": [
       "<div>\n",
       "<style scoped>\n",
       "    .dataframe tbody tr th:only-of-type {\n",
       "        vertical-align: middle;\n",
       "    }\n",
       "\n",
       "    .dataframe tbody tr th {\n",
       "        vertical-align: top;\n",
       "    }\n",
       "\n",
       "    .dataframe thead th {\n",
       "        text-align: right;\n",
       "    }\n",
       "</style>\n",
       "<table border=\"1\" class=\"dataframe\">\n",
       "  <thead>\n",
       "    <tr style=\"text-align: right;\">\n",
       "      <th></th>\n",
       "      <th>Machine_Type</th>\n",
       "      <th>Machine</th>\n",
       "      <th>GrownWeight</th>\n",
       "      <th>ProdHeight</th>\n",
       "      <th>Dmtr</th>\n",
       "      <th>Actual_Hours</th>\n",
       "      <th>GrRate</th>\n",
       "      <th>Stop_Reasons</th>\n",
       "      <th>LateStartReason</th>\n",
       "    </tr>\n",
       "  </thead>\n",
       "  <tbody>\n",
       "    <tr>\n",
       "      <th>774</th>\n",
       "      <td>Old</td>\n",
       "      <td>AC61</td>\n",
       "      <td>35.997415</td>\n",
       "      <td>1.668732</td>\n",
       "      <td>47.67</td>\n",
       "      <td>206.0</td>\n",
       "      <td>11.75</td>\n",
       "      <td>TIDE O , N/A</td>\n",
       "      <td>ON TIME</td>\n",
       "    </tr>\n",
       "    <tr>\n",
       "      <th>775</th>\n",
       "      <td>Old</td>\n",
       "      <td>AC61</td>\n",
       "      <td>65.775000</td>\n",
       "      <td>3.065000</td>\n",
       "      <td>41.96</td>\n",
       "      <td>200.0</td>\n",
       "      <td>11.95</td>\n",
       "      <td>TIDE O , N/A</td>\n",
       "      <td>ON TIME</td>\n",
       "    </tr>\n",
       "    <tr>\n",
       "      <th>776</th>\n",
       "      <td>Old</td>\n",
       "      <td>AC61</td>\n",
       "      <td>52.785000</td>\n",
       "      <td>2.777500</td>\n",
       "      <td>38.92</td>\n",
       "      <td>180.0</td>\n",
       "      <td>12.56</td>\n",
       "      <td>TIDE O , N/A</td>\n",
       "      <td>ON TIME</td>\n",
       "    </tr>\n",
       "    <tr>\n",
       "      <th>777</th>\n",
       "      <td>Old</td>\n",
       "      <td>AC61</td>\n",
       "      <td>56.355000</td>\n",
       "      <td>4.095000</td>\n",
       "      <td>41.13</td>\n",
       "      <td>180.0</td>\n",
       "      <td>11.89</td>\n",
       "      <td>TIDE O , N/A</td>\n",
       "      <td>POWER PROBLEM</td>\n",
       "    </tr>\n",
       "    <tr>\n",
       "      <th>778</th>\n",
       "      <td>Old</td>\n",
       "      <td>AC61</td>\n",
       "      <td>9.887940</td>\n",
       "      <td>0.412898</td>\n",
       "      <td>39.59</td>\n",
       "      <td>270.0</td>\n",
       "      <td>12.37</td>\n",
       "      <td>TIDE O , N/A</td>\n",
       "      <td>MW</td>\n",
       "    </tr>\n",
       "  </tbody>\n",
       "</table>\n",
       "</div>"
      ],
      "text/plain": [
       "    Machine_Type Machine  GrownWeight  ProdHeight   Dmtr  Actual_Hours  \\\n",
       "774          Old    AC61    35.997415    1.668732  47.67         206.0   \n",
       "775          Old    AC61    65.775000    3.065000  41.96         200.0   \n",
       "776          Old    AC61    52.785000    2.777500  38.92         180.0   \n",
       "777          Old    AC61    56.355000    4.095000  41.13         180.0   \n",
       "778          Old    AC61     9.887940    0.412898  39.59         270.0   \n",
       "\n",
       "     GrRate  Stop_Reasons LateStartReason  \n",
       "774   11.75  TIDE O , N/A         ON TIME  \n",
       "775   11.95  TIDE O , N/A         ON TIME  \n",
       "776   12.56  TIDE O , N/A         ON TIME  \n",
       "777   11.89  TIDE O , N/A   POWER PROBLEM  \n",
       "778   12.37  TIDE O , N/A              MW  "
      ]
     },
     "execution_count": 25,
     "metadata": {},
     "output_type": "execute_result"
    }
   ],
   "source": [
    "m,t = 'AC61','Old'\n",
    "final_DF[(final_DF.Machine==m)&(final_DF.Machine_Type==t)]"
   ]
  },
  {
   "cell_type": "code",
   "execution_count": 26,
   "id": "b3768994",
   "metadata": {},
   "outputs": [
    {
     "name": "stdout",
     "output_type": "stream",
     "text": [
      "220.80035499999997\n",
      "207.2\n",
      "2.4038259999999996\n",
      "41.854\n",
      "12.104\n"
     ]
    }
   ],
   "source": [
    "print(final_DF[(final_DF.Machine==m)&(final_DF.Machine_Type==t)].GrownWeight.sum())\n",
    "print(final_DF[(final_DF.Machine==m)&(final_DF.Machine_Type==t)].Actual_Hours.mean())\n",
    "print(final_DF[(final_DF.Machine==m)&(final_DF.Machine_Type==t)].ProdHeight.mean())\n",
    "print(final_DF[(final_DF.Machine==m)&(final_DF.Machine_Type==t)].Dmtr.mean())\n",
    "print(final_DF[(final_DF.Machine==m)&(final_DF.Machine_Type==t)].GrRate.mean())"
   ]
  },
  {
   "cell_type": "code",
   "execution_count": null,
   "id": "5bf2070f",
   "metadata": {},
   "outputs": [],
   "source": []
  }
 ],
 "metadata": {
  "kernelspec": {
   "display_name": "Python 3 (ipykernel)",
   "language": "python",
   "name": "python3"
  },
  "language_info": {
   "codemirror_mode": {
    "name": "ipython",
    "version": 3
   },
   "file_extension": ".py",
   "mimetype": "text/x-python",
   "name": "python",
   "nbconvert_exporter": "python",
   "pygments_lexer": "ipython3",
   "version": "3.9.13"
  }
 },
 "nbformat": 4,
 "nbformat_minor": 5
}
