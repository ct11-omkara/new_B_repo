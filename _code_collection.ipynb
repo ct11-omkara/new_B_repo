{
 "cells": [
  {
   "cell_type": "code",
   "execution_count": 5,
   "id": "65621510",
   "metadata": {},
   "outputs": [
    {
     "data": {
      "text/plain": [
       "(3.142857142857143, 3)"
      ]
     },
     "execution_count": 5,
     "metadata": {},
     "output_type": "execute_result"
    }
   ],
   "source": [
    "22/7, 22//7 #only integer part"
   ]
  },
  {
   "cell_type": "code",
   "execution_count": 1,
   "id": "6c24a3f0",
   "metadata": {},
   "outputs": [
    {
     "name": "stdout",
     "output_type": "stream",
     "text": [
      "This is {a}\n",
      "This is 57\n"
     ]
    }
   ],
   "source": [
    "a = 57\n",
    "print(\"This is {a}\")\n",
    "print(f\"This is {a}\")"
   ]
  },
  {
   "cell_type": "code",
   "execution_count": 7,
   "id": "f3237425",
   "metadata": {},
   "outputs": [
    {
     "data": {
      "text/plain": [
       "(0, 1, 3)"
      ]
     },
     "execution_count": 7,
     "metadata": {},
     "output_type": "execute_result"
    }
   ],
   "source": [
    "#3 condition with lambda function\n",
    "k = lambda x,y: 3 if x>y else 1 if x==0 else 0\n",
    "k(2,4), k(0,4), k(7,4)"
   ]
  },
  {
   "cell_type": "code",
   "execution_count": 7,
   "id": "3f544c2c",
   "metadata": {},
   "outputs": [
    {
     "data": {
      "text/html": [
       "<div>\n",
       "<style scoped>\n",
       "    .dataframe tbody tr th:only-of-type {\n",
       "        vertical-align: middle;\n",
       "    }\n",
       "\n",
       "    .dataframe tbody tr th {\n",
       "        vertical-align: top;\n",
       "    }\n",
       "\n",
       "    .dataframe thead th {\n",
       "        text-align: right;\n",
       "    }\n",
       "</style>\n",
       "<table border=\"1\" class=\"dataframe\">\n",
       "  <thead>\n",
       "    <tr style=\"text-align: right;\">\n",
       "      <th></th>\n",
       "      <th>RunNo</th>\n",
       "      <th>ZONE</th>\n",
       "      <th>Machine</th>\n",
       "    </tr>\n",
       "  </thead>\n",
       "  <tbody>\n",
       "    <tr>\n",
       "      <th>0</th>\n",
       "      <td>AA1-41</td>\n",
       "      <td>0.066667</td>\n",
       "      <td>AA1</td>\n",
       "    </tr>\n",
       "    <tr>\n",
       "      <th>1</th>\n",
       "      <td>AA1-42</td>\n",
       "      <td>0.214286</td>\n",
       "      <td>AA1</td>\n",
       "    </tr>\n",
       "    <tr>\n",
       "      <th>2</th>\n",
       "      <td>AA1-45</td>\n",
       "      <td>0.642857</td>\n",
       "      <td>AA1</td>\n",
       "    </tr>\n",
       "    <tr>\n",
       "      <th>3</th>\n",
       "      <td>AA1-46</td>\n",
       "      <td>0.083333</td>\n",
       "      <td>AA1</td>\n",
       "    </tr>\n",
       "    <tr>\n",
       "      <th>4</th>\n",
       "      <td>AA10-48</td>\n",
       "      <td>0.307692</td>\n",
       "      <td>AA10</td>\n",
       "    </tr>\n",
       "  </tbody>\n",
       "</table>\n",
       "</div>"
      ],
      "text/plain": [
       "     RunNo      ZONE Machine\n",
       "0   AA1-41  0.066667     AA1\n",
       "1   AA1-42  0.214286     AA1\n",
       "2   AA1-45  0.642857     AA1\n",
       "3   AA1-46  0.083333     AA1\n",
       "4  AA10-48  0.307692    AA10"
      ]
     },
     "execution_count": 7,
     "metadata": {},
     "output_type": "execute_result"
    }
   ],
   "source": [
    "#Split string by given character\n",
    "RunWise_Zone[\"Machine\"] = RunWise_Zone[\"RunNo\"].apply(lambda x: x.split('-')[0])\n",
    "RunWise_Zone.head()"
   ]
  },
  {
   "cell_type": "code",
   "execution_count": 1,
   "id": "72d5f90c",
   "metadata": {},
   "outputs": [],
   "source": [
    "#sorting dataframe column \n",
    "\n",
    "def add_sorting_rank_to_column(temp_df, column_name, ascending_order=True):\n",
    "    temp_df[column_name] = pd.to_numeric(temp_df[column_name])\n",
    "    temp_df = temp_df.sort_values(by=[column_name], ascending=ascending_order).reset_index()\n",
    "    temp_df.index.name = column_name + \"_rank\"\n",
    "    temp_df = temp_df.reset_index()\n",
    "    temp_df[column_name + \"_rank\"] += 1\n",
    "    temp_df.index.name = \"delete_\" + column_name\n",
    "    return temp_df\n",
    "#===========================================================================================\n",
    "\n",
    "MachineWise_Zone = add_sorting_rank_to_column(MachineWise_Zone,\"ZONE\")\n",
    "MachineWise_Zone = MachineWise_Zone.set_index(\"index\")\n",
    "MachineWise_Zone = MachineWise_Zone.sort_index()\n",
    "if MachineWise_Zone.index[0] == 0:\n",
    "    MachineWise_Zone.index += 1"
   ]
  },
  {
   "cell_type": "code",
   "execution_count": null,
   "id": "1e81d17e",
   "metadata": {},
   "outputs": [],
   "source": [
    "#Display all the rows which have null  values\n",
    "len(MachineWise_Zone[MachineWise_Zone.isna().any(axis=1)])"
   ]
  },
  {
   "cell_type": "code",
   "execution_count": null,
   "id": "f9ed5ac5",
   "metadata": {},
   "outputs": [],
   "source": [
    "#Fill all null values with 0\n",
    "MachineWise_Zone.ZONE.fillna(0, inplace=True)"
   ]
  },
  {
   "cell_type": "code",
   "execution_count": null,
   "id": "1f50dae7",
   "metadata": {},
   "outputs": [],
   "source": [
    "#check excel file in given path, & then create excel file\n",
    "if os.path.exists(\"MachineWise_ZoneRank.xlsx\"):\n",
    "    os.remove(\"MachineWise_ZoneRank.xlsx\")\n",
    "    \n",
    "MachineWise_Zone.to_excel(\"MachineWise_ZoneRank.xlsx\", index_label=\"ID\", header=1)"
   ]
  },
  {
   "cell_type": "code",
   "execution_count": 1,
   "id": "9787277b",
   "metadata": {},
   "outputs": [
    {
     "name": "stdout",
     "output_type": "stream",
     "text": [
      "sum([3, 9, 5])=17\n",
      "sum([3, 4, 10])=17\n",
      "sum([9, 8])=17\n",
      "sum([8, 4, 5])=17\n",
      "sum([7, 10])=17\n"
     ]
    }
   ],
   "source": [
    "#Finding all combination in the list those have sum is given number\n",
    "\n",
    "def subset_sum(numbers, target, partial=[]):\n",
    "    s = sum(partial)\n",
    "\n",
    "    # check if the partial sum is equals to target\n",
    "    if s == target:            #(if fixed figure check out)\n",
    "    #if s>=123.00 and s<128.00: #(if range check out)\n",
    "        print (\"sum(%s)=%s\" % (partial, target))\n",
    "    if s >= target:\n",
    "        return  # if we reach the number why bother to continue\n",
    "    \n",
    "    for i in range(len(numbers)):\n",
    "        n = numbers[i]\n",
    "        remaining = numbers[i+1:]\n",
    "        subset_sum(remaining, target, partial + [n]) \n",
    "   \n",
    "\n",
    "subset_sum([3,9,8,4,5,7,10],17)"
   ]
  },
  {
   "cell_type": "code",
   "execution_count": 2,
   "id": "8f8138de",
   "metadata": {},
   "outputs": [
    {
     "name": "stdout",
     "output_type": "stream",
     "text": [
      "  class  val sub\n",
      "0     A   20   a\n",
      "1     A   10   c\n",
      "2     A   15   b\n",
      "3     B   55   b\n",
      "4     B   75   a\n",
      "5     B   71   c\n",
      "6     C    3   c\n",
      "7     C    1   a\n",
      "8     C    2   b\n",
      "\n",
      "=====================\n",
      "\n",
      "  class  val sub\n",
      "1     A   10   c\n",
      "2     A   15   b\n",
      "0     A   20   a\n",
      "4     B   75   a\n",
      "5     B   71   c\n",
      "3     B   55   b\n",
      "7     C    1   a\n",
      "8     C    2   b\n",
      "6     C    3   c\n"
     ]
    }
   ],
   "source": [
    "#Conditionally sort a single column in ascending and descending order in Pandas\n",
    "import pandas as pd\n",
    "df = pd.DataFrame(data={'class':['A','A','A','B','B','B','C','C','C'],\n",
    "                        'val':[20,10,15,55, 75, 71,3,1,2],\n",
    "                        'sub':['a','c','b','b','a','c','c','a','b']})\n",
    "print(df)\n",
    "\n",
    "order = {'A': True, 'B': False, 'C': True}\n",
    "df = (df.groupby('class', group_keys=False)\n",
    "   .apply(lambda s: s.sort_values(by='val', ascending=order[s.name]))\n",
    ")\n",
    "\n",
    "print(\"\\n=====================\\n\")\n",
    "print(df)"
   ]
  },
  {
   "cell_type": "code",
   "execution_count": 8,
   "id": "dbc48547",
   "metadata": {},
   "outputs": [
    {
     "name": "stdout",
     "output_type": "stream",
     "text": [
      "    Name  Age  Rank\n",
      "5  Megha   23   NaN\n",
      "1  Akhil   22   NaN\n",
      "0    Raj   20   1.0\n",
      "4  Divya   17   4.0\n",
      "2  Sonum   21   8.0\n",
      "3  Tilak   19   9.0\n",
      "\n",
      "====================\n",
      "\n",
      "    Name  Age  Rank\n",
      "0    Raj   20   1.0\n",
      "4  Divya   17   4.0\n",
      "2  Sonum   21   8.0\n",
      "3  Tilak   19   9.0\n",
      "5  Megha   23   NaN\n",
      "1  Akhil   22   NaN\n"
     ]
    }
   ],
   "source": [
    "#Sort multiple columns in different order with null value first rank or last rank\n",
    "import numpy as np\n",
    "import pandas as pd\n",
    " \n",
    "df = pd.DataFrame({'Name': ['Raj', 'Akhil', 'Sonum', 'Tilak', 'Divya', 'Megha'],\n",
    "                   'Age': [20, 22, 21, 19, 17, 23],\n",
    "                   'Rank': [1, np.nan, 8, 9, 4, np.nan]})\n",
    " \n",
    "print(df.sort_values(by = ['Rank', 'Age'], ascending = [True, False], na_position = 'first'))\n",
    "print(\"\\n====================\\n\")\n",
    "print(df.sort_values(by = ['Rank', 'Age'], ascending = [True, False], na_position = 'last'))"
   ]
  },
  {
   "cell_type": "code",
   "execution_count": null,
   "id": "a9396e79",
   "metadata": {},
   "outputs": [],
   "source": []
  },
  {
   "cell_type": "code",
   "execution_count": null,
   "id": "0f940d09",
   "metadata": {},
   "outputs": [],
   "source": []
  },
  {
   "cell_type": "code",
   "execution_count": null,
   "id": "abcf6911",
   "metadata": {},
   "outputs": [],
   "source": []
  },
  {
   "cell_type": "code",
   "execution_count": null,
   "id": "da850a71",
   "metadata": {},
   "outputs": [],
   "source": []
  },
  {
   "cell_type": "code",
   "execution_count": null,
   "id": "fee07f1b",
   "metadata": {},
   "outputs": [],
   "source": []
  },
  {
   "cell_type": "code",
   "execution_count": null,
   "id": "229aff39",
   "metadata": {},
   "outputs": [],
   "source": []
  },
  {
   "cell_type": "code",
   "execution_count": null,
   "id": "707b48e1",
   "metadata": {},
   "outputs": [],
   "source": []
  }
 ],
 "metadata": {
  "kernelspec": {
   "display_name": "Python 3 (ipykernel)",
   "language": "python",
   "name": "python3"
  },
  "language_info": {
   "codemirror_mode": {
    "name": "ipython",
    "version": 3
   },
   "file_extension": ".py",
   "mimetype": "text/x-python",
   "name": "python",
   "nbconvert_exporter": "python",
   "pygments_lexer": "ipython3",
   "version": "3.9.13"
  }
 },
 "nbformat": 4,
 "nbformat_minor": 5
}
