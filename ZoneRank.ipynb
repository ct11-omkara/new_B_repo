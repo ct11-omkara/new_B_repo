{
 "cells": [
  {
   "cell_type": "code",
   "execution_count": 4,
   "id": "f1ccda94",
   "metadata": {},
   "outputs": [],
   "source": [
    "import pandas as pd\n",
    "import numpy as np\n",
    "import os"
   ]
  },
  {
   "cell_type": "code",
   "execution_count": 5,
   "id": "050f5e74",
   "metadata": {},
   "outputs": [
    {
     "data": {
      "text/html": [
       "<div>\n",
       "<style scoped>\n",
       "    .dataframe tbody tr th:only-of-type {\n",
       "        vertical-align: middle;\n",
       "    }\n",
       "\n",
       "    .dataframe tbody tr th {\n",
       "        vertical-align: top;\n",
       "    }\n",
       "\n",
       "    .dataframe thead th {\n",
       "        text-align: right;\n",
       "    }\n",
       "</style>\n",
       "<table border=\"1\" class=\"dataframe\">\n",
       "  <thead>\n",
       "    <tr style=\"text-align: right;\">\n",
       "      <th></th>\n",
       "      <th>Machine</th>\n",
       "      <th>HAIR LINE</th>\n",
       "      <th>HEAVY</th>\n",
       "      <th>MEDIUM</th>\n",
       "      <th>ZONE Total</th>\n",
       "    </tr>\n",
       "  </thead>\n",
       "  <tbody>\n",
       "    <tr>\n",
       "      <th>0</th>\n",
       "      <td>AA1</td>\n",
       "      <td>0.021739</td>\n",
       "      <td>0.043478</td>\n",
       "      <td>0.021739</td>\n",
       "      <td>0.086957</td>\n",
       "    </tr>\n",
       "    <tr>\n",
       "      <th>1</th>\n",
       "      <td>AA10</td>\n",
       "      <td>0.019608</td>\n",
       "      <td>0.039216</td>\n",
       "      <td>0.137255</td>\n",
       "      <td>0.196078</td>\n",
       "    </tr>\n",
       "    <tr>\n",
       "      <th>2</th>\n",
       "      <td>AA11</td>\n",
       "      <td>0.147059</td>\n",
       "      <td>0.073529</td>\n",
       "      <td>0.044118</td>\n",
       "      <td>0.264706</td>\n",
       "    </tr>\n",
       "    <tr>\n",
       "      <th>3</th>\n",
       "      <td>AA12</td>\n",
       "      <td>0.137255</td>\n",
       "      <td>0.058824</td>\n",
       "      <td>0.098039</td>\n",
       "      <td>0.294118</td>\n",
       "    </tr>\n",
       "    <tr>\n",
       "      <th>4</th>\n",
       "      <td>AA13</td>\n",
       "      <td>0.080000</td>\n",
       "      <td>0.020000</td>\n",
       "      <td>0.040000</td>\n",
       "      <td>0.140000</td>\n",
       "    </tr>\n",
       "  </tbody>\n",
       "</table>\n",
       "</div>"
      ],
      "text/plain": [
       "  Machine  HAIR LINE     HEAVY    MEDIUM  ZONE Total\n",
       "0     AA1   0.021739  0.043478  0.021739    0.086957\n",
       "1    AA10   0.019608  0.039216  0.137255    0.196078\n",
       "2    AA11   0.147059  0.073529  0.044118    0.264706\n",
       "3    AA12   0.137255  0.058824  0.098039    0.294118\n",
       "4    AA13   0.080000  0.020000  0.040000    0.140000"
      ]
     },
     "execution_count": 5,
     "metadata": {},
     "output_type": "execute_result"
    }
   ],
   "source": [
    "mainDF = pd.read_excel(\"Data\\September_09\\\\ZoneWiseReportPivot.xlsx\")\n",
    "mainDF.head()"
   ]
  },
  {
   "cell_type": "code",
   "execution_count": 6,
   "id": "2d0f0187",
   "metadata": {},
   "outputs": [
    {
     "data": {
      "text/html": [
       "<div>\n",
       "<style scoped>\n",
       "    .dataframe tbody tr th:only-of-type {\n",
       "        vertical-align: middle;\n",
       "    }\n",
       "\n",
       "    .dataframe tbody tr th {\n",
       "        vertical-align: top;\n",
       "    }\n",
       "\n",
       "    .dataframe thead th {\n",
       "        text-align: right;\n",
       "    }\n",
       "</style>\n",
       "<table border=\"1\" class=\"dataframe\">\n",
       "  <thead>\n",
       "    <tr style=\"text-align: right;\">\n",
       "      <th></th>\n",
       "      <th>Machine</th>\n",
       "      <th>HEAVY</th>\n",
       "      <th>MEDIUM</th>\n",
       "    </tr>\n",
       "  </thead>\n",
       "  <tbody>\n",
       "    <tr>\n",
       "      <th>0</th>\n",
       "      <td>AA1</td>\n",
       "      <td>0.043478</td>\n",
       "      <td>0.021739</td>\n",
       "    </tr>\n",
       "    <tr>\n",
       "      <th>1</th>\n",
       "      <td>AA10</td>\n",
       "      <td>0.039216</td>\n",
       "      <td>0.137255</td>\n",
       "    </tr>\n",
       "    <tr>\n",
       "      <th>2</th>\n",
       "      <td>AA11</td>\n",
       "      <td>0.073529</td>\n",
       "      <td>0.044118</td>\n",
       "    </tr>\n",
       "    <tr>\n",
       "      <th>3</th>\n",
       "      <td>AA12</td>\n",
       "      <td>0.058824</td>\n",
       "      <td>0.098039</td>\n",
       "    </tr>\n",
       "    <tr>\n",
       "      <th>4</th>\n",
       "      <td>AA13</td>\n",
       "      <td>0.020000</td>\n",
       "      <td>0.040000</td>\n",
       "    </tr>\n",
       "  </tbody>\n",
       "</table>\n",
       "</div>"
      ],
      "text/plain": [
       "  Machine     HEAVY    MEDIUM\n",
       "0     AA1  0.043478  0.021739\n",
       "1    AA10  0.039216  0.137255\n",
       "2    AA11  0.073529  0.044118\n",
       "3    AA12  0.058824  0.098039\n",
       "4    AA13  0.020000  0.040000"
      ]
     },
     "execution_count": 6,
     "metadata": {},
     "output_type": "execute_result"
    }
   ],
   "source": [
    "final_zone = mainDF[[\"Machine\", \"HEAVY\", \"MEDIUM\"]]\n",
    "final_zone.head()"
   ]
  },
  {
   "cell_type": "code",
   "execution_count": 7,
   "id": "20c5b038",
   "metadata": {},
   "outputs": [
    {
     "data": {
      "text/plain": [
       "Machine      0\n",
       "HEAVY      163\n",
       "MEDIUM     209\n",
       "dtype: int64"
      ]
     },
     "execution_count": 7,
     "metadata": {},
     "output_type": "execute_result"
    }
   ],
   "source": [
    "final_zone.isnull().sum()"
   ]
  },
  {
   "cell_type": "code",
   "execution_count": 8,
   "id": "f38db053",
   "metadata": {},
   "outputs": [
    {
     "name": "stderr",
     "output_type": "stream",
     "text": [
      "C:\\Users\\Administrator\\AppData\\Local\\Temp\\ipykernel_10320\\1374821920.py:1: SettingWithCopyWarning: \n",
      "A value is trying to be set on a copy of a slice from a DataFrame\n",
      "\n",
      "See the caveats in the documentation: https://pandas.pydata.org/pandas-docs/stable/user_guide/indexing.html#returning-a-view-versus-a-copy\n",
      "  final_zone.fillna(0,inplace=True)\n"
     ]
    }
   ],
   "source": [
    "final_zone.fillna(0,inplace=True)"
   ]
  },
  {
   "cell_type": "code",
   "execution_count": 9,
   "id": "61eae0b1",
   "metadata": {},
   "outputs": [
    {
     "data": {
      "text/plain": [
       "Machine    0\n",
       "HEAVY      0\n",
       "MEDIUM     0\n",
       "dtype: int64"
      ]
     },
     "execution_count": 9,
     "metadata": {},
     "output_type": "execute_result"
    }
   ],
   "source": [
    "final_zone.isnull().sum()"
   ]
  },
  {
   "cell_type": "code",
   "execution_count": 10,
   "id": "90f9003a",
   "metadata": {},
   "outputs": [
    {
     "name": "stderr",
     "output_type": "stream",
     "text": [
      "C:\\Users\\Administrator\\AppData\\Local\\Temp\\ipykernel_10320\\846158253.py:1: SettingWithCopyWarning: \n",
      "A value is trying to be set on a copy of a slice from a DataFrame.\n",
      "Try using .loc[row_indexer,col_indexer] = value instead\n",
      "\n",
      "See the caveats in the documentation: https://pandas.pydata.org/pandas-docs/stable/user_guide/indexing.html#returning-a-view-versus-a-copy\n",
      "  final_zone.HEAVY = pd.to_numeric(final_zone.HEAVY)\n",
      "C:\\Users\\Administrator\\AppData\\Local\\Temp\\ipykernel_10320\\846158253.py:2: SettingWithCopyWarning: \n",
      "A value is trying to be set on a copy of a slice from a DataFrame.\n",
      "Try using .loc[row_indexer,col_indexer] = value instead\n",
      "\n",
      "See the caveats in the documentation: https://pandas.pydata.org/pandas-docs/stable/user_guide/indexing.html#returning-a-view-versus-a-copy\n",
      "  final_zone.MEDIUM = pd.to_numeric(final_zone.MEDIUM)\n",
      "C:\\Users\\Administrator\\AppData\\Local\\Temp\\ipykernel_10320\\846158253.py:3: SettingWithCopyWarning: \n",
      "A value is trying to be set on a copy of a slice from a DataFrame.\n",
      "Try using .loc[row_indexer,col_indexer] = value instead\n",
      "\n",
      "See the caveats in the documentation: https://pandas.pydata.org/pandas-docs/stable/user_guide/indexing.html#returning-a-view-versus-a-copy\n",
      "  final_zone[\"Zone_total\"] = final_zone[\"HEAVY\"] + final_zone[\"MEDIUM\"]\n"
     ]
    }
   ],
   "source": [
    "final_zone.HEAVY = pd.to_numeric(final_zone.HEAVY)\n",
    "final_zone.MEDIUM = pd.to_numeric(final_zone.MEDIUM)\n",
    "final_zone[\"Zone_total\"] = final_zone[\"HEAVY\"] + final_zone[\"MEDIUM\"]"
   ]
  },
  {
   "cell_type": "code",
   "execution_count": 11,
   "id": "c1fecae2",
   "metadata": {},
   "outputs": [],
   "source": [
    "def add_sorting_rank_to_column(temp_df, column_name, ascending_order=True):\n",
    "    temp_df[column_name] = pd.to_numeric(temp_df[column_name])\n",
    "    temp_df = temp_df.sort_values(by=[column_name], ascending=ascending_order).reset_index()\n",
    "    temp_df.index.name = column_name + \"_rank\"\n",
    "    temp_df = temp_df.reset_index()\n",
    "    temp_df[column_name + \"_rank\"] += 1\n",
    "    temp_df.index.name = \"delete_\" + column_name\n",
    "    return temp_df"
   ]
  },
  {
   "cell_type": "code",
   "execution_count": 12,
   "id": "8b525be6",
   "metadata": {},
   "outputs": [
    {
     "name": "stderr",
     "output_type": "stream",
     "text": [
      "C:\\Users\\Administrator\\AppData\\Local\\Temp\\ipykernel_10320\\2241940988.py:2: SettingWithCopyWarning: \n",
      "A value is trying to be set on a copy of a slice from a DataFrame.\n",
      "Try using .loc[row_indexer,col_indexer] = value instead\n",
      "\n",
      "See the caveats in the documentation: https://pandas.pydata.org/pandas-docs/stable/user_guide/indexing.html#returning-a-view-versus-a-copy\n",
      "  temp_df[column_name] = pd.to_numeric(temp_df[column_name])\n"
     ]
    }
   ],
   "source": [
    "final_zone = add_sorting_rank_to_column(final_zone,\"Zone_total\").set_index(\"index\")\n",
    "final_zone = final_zone.sort_index()"
   ]
  },
  {
   "cell_type": "code",
   "execution_count": 13,
   "id": "ec0c42f5",
   "metadata": {},
   "outputs": [],
   "source": [
    "final_zone = final_zone[['Machine', 'HEAVY', 'MEDIUM', 'Zone_total', 'Zone_total_rank']]\n",
    "final_zone = final_zone.rename(columns={'HEAVY':'Zone_HEAVY', 'MEDIUM':'Zone_MEDIUM'})"
   ]
  },
  {
   "cell_type": "code",
   "execution_count": 14,
   "id": "a77d96e6",
   "metadata": {},
   "outputs": [],
   "source": [
    "if (final_zone.index[0]==0):\n",
    "    final_zone.index += 1"
   ]
  },
  {
   "cell_type": "code",
   "execution_count": 15,
   "id": "b404ab8c",
   "metadata": {},
   "outputs": [],
   "source": [
    "if os.path.exists(\"zoneReport.xlsx\"):\n",
    "    os.remove(\"zoneReport.xlsx\")\n",
    "    \n",
    "final_zone.to_excel(\"zoneReport.xlsx\", index_label=\"ID\", header=1)"
   ]
  },
  {
   "cell_type": "code",
   "execution_count": 16,
   "id": "dacf67ab",
   "metadata": {},
   "outputs": [
    {
     "data": {
      "text/html": [
       "<div>\n",
       "<style scoped>\n",
       "    .dataframe tbody tr th:only-of-type {\n",
       "        vertical-align: middle;\n",
       "    }\n",
       "\n",
       "    .dataframe tbody tr th {\n",
       "        vertical-align: top;\n",
       "    }\n",
       "\n",
       "    .dataframe thead th {\n",
       "        text-align: right;\n",
       "    }\n",
       "</style>\n",
       "<table border=\"1\" class=\"dataframe\">\n",
       "  <thead>\n",
       "    <tr style=\"text-align: right;\">\n",
       "      <th></th>\n",
       "      <th>Machine</th>\n",
       "      <th>Zone_HEAVY</th>\n",
       "      <th>Zone_MEDIUM</th>\n",
       "      <th>Zone_total</th>\n",
       "      <th>Zone_total_rank</th>\n",
       "    </tr>\n",
       "    <tr>\n",
       "      <th>index</th>\n",
       "      <th></th>\n",
       "      <th></th>\n",
       "      <th></th>\n",
       "      <th></th>\n",
       "      <th></th>\n",
       "    </tr>\n",
       "  </thead>\n",
       "  <tbody>\n",
       "    <tr>\n",
       "      <th>1</th>\n",
       "      <td>AA1</td>\n",
       "      <td>0.043478</td>\n",
       "      <td>0.021739</td>\n",
       "      <td>0.065217</td>\n",
       "      <td>297</td>\n",
       "    </tr>\n",
       "    <tr>\n",
       "      <th>2</th>\n",
       "      <td>AA10</td>\n",
       "      <td>0.039216</td>\n",
       "      <td>0.137255</td>\n",
       "      <td>0.176471</td>\n",
       "      <td>769</td>\n",
       "    </tr>\n",
       "    <tr>\n",
       "      <th>3</th>\n",
       "      <td>AA11</td>\n",
       "      <td>0.073529</td>\n",
       "      <td>0.044118</td>\n",
       "      <td>0.117647</td>\n",
       "      <td>525</td>\n",
       "    </tr>\n",
       "    <tr>\n",
       "      <th>4</th>\n",
       "      <td>AA12</td>\n",
       "      <td>0.058824</td>\n",
       "      <td>0.098039</td>\n",
       "      <td>0.156863</td>\n",
       "      <td>703</td>\n",
       "    </tr>\n",
       "    <tr>\n",
       "      <th>5</th>\n",
       "      <td>AA13</td>\n",
       "      <td>0.020000</td>\n",
       "      <td>0.040000</td>\n",
       "      <td>0.060000</td>\n",
       "      <td>270</td>\n",
       "    </tr>\n",
       "    <tr>\n",
       "      <th>...</th>\n",
       "      <td>...</td>\n",
       "      <td>...</td>\n",
       "      <td>...</td>\n",
       "      <td>...</td>\n",
       "      <td>...</td>\n",
       "    </tr>\n",
       "    <tr>\n",
       "      <th>1013</th>\n",
       "      <td>CC16</td>\n",
       "      <td>0.072464</td>\n",
       "      <td>0.057971</td>\n",
       "      <td>0.130435</td>\n",
       "      <td>576</td>\n",
       "    </tr>\n",
       "    <tr>\n",
       "      <th>1014</th>\n",
       "      <td>CC17</td>\n",
       "      <td>0.014286</td>\n",
       "      <td>0.028571</td>\n",
       "      <td>0.042857</td>\n",
       "      <td>207</td>\n",
       "    </tr>\n",
       "    <tr>\n",
       "      <th>1015</th>\n",
       "      <td>CC20</td>\n",
       "      <td>0.013889</td>\n",
       "      <td>0.013889</td>\n",
       "      <td>0.027778</td>\n",
       "      <td>147</td>\n",
       "    </tr>\n",
       "    <tr>\n",
       "      <th>1016</th>\n",
       "      <td>CC21</td>\n",
       "      <td>0.045455</td>\n",
       "      <td>0.015152</td>\n",
       "      <td>0.060606</td>\n",
       "      <td>273</td>\n",
       "    </tr>\n",
       "    <tr>\n",
       "      <th>1017</th>\n",
       "      <td>CC22</td>\n",
       "      <td>0.035714</td>\n",
       "      <td>0.017857</td>\n",
       "      <td>0.053571</td>\n",
       "      <td>240</td>\n",
       "    </tr>\n",
       "  </tbody>\n",
       "</table>\n",
       "<p>1017 rows × 5 columns</p>\n",
       "</div>"
      ],
      "text/plain": [
       "      Machine  Zone_HEAVY  Zone_MEDIUM  Zone_total  Zone_total_rank\n",
       "index                                                              \n",
       "1         AA1    0.043478     0.021739    0.065217              297\n",
       "2        AA10    0.039216     0.137255    0.176471              769\n",
       "3        AA11    0.073529     0.044118    0.117647              525\n",
       "4        AA12    0.058824     0.098039    0.156863              703\n",
       "5        AA13    0.020000     0.040000    0.060000              270\n",
       "...       ...         ...          ...         ...              ...\n",
       "1013     CC16    0.072464     0.057971    0.130435              576\n",
       "1014     CC17    0.014286     0.028571    0.042857              207\n",
       "1015     CC20    0.013889     0.013889    0.027778              147\n",
       "1016     CC21    0.045455     0.015152    0.060606              273\n",
       "1017     CC22    0.035714     0.017857    0.053571              240\n",
       "\n",
       "[1017 rows x 5 columns]"
      ]
     },
     "execution_count": 16,
     "metadata": {},
     "output_type": "execute_result"
    }
   ],
   "source": [
    "final_zone"
   ]
  },
  {
   "cell_type": "code",
   "execution_count": null,
   "id": "fa9647aa",
   "metadata": {},
   "outputs": [],
   "source": []
  },
  {
   "cell_type": "code",
   "execution_count": null,
   "id": "206f19c9",
   "metadata": {},
   "outputs": [],
   "source": []
  }
 ],
 "metadata": {
  "kernelspec": {
   "display_name": "Python 3 (ipykernel)",
   "language": "python",
   "name": "python3"
  },
  "language_info": {
   "codemirror_mode": {
    "name": "ipython",
    "version": 3
   },
   "file_extension": ".py",
   "mimetype": "text/x-python",
   "name": "python",
   "nbconvert_exporter": "python",
   "pygments_lexer": "ipython3",
   "version": "3.9.13"
  }
 },
 "nbformat": 4,
 "nbformat_minor": 5
}
