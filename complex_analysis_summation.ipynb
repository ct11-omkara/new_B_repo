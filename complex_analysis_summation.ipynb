{
 "cells": [
  {
   "cell_type": "code",
   "execution_count": 1,
   "id": "503c0aab",
   "metadata": {},
   "outputs": [
    {
     "ename": "NameError",
     "evalue": "name 'pd' is not defined",
     "output_type": "error",
     "traceback": [
      "\u001b[1;31m---------------------------------------------------------------------------\u001b[0m",
      "\u001b[1;31mNameError\u001b[0m                                 Traceback (most recent call last)",
      "\u001b[1;32m~\\AppData\\Local\\Temp\\ipykernel_10844\\342184626.py\u001b[0m in \u001b[0;36m<module>\u001b[1;34m\u001b[0m\n\u001b[1;32m----> 1\u001b[1;33m \u001b[0mpd\u001b[0m\u001b[1;33m.\u001b[0m\u001b[0mset_option\u001b[0m\u001b[1;33m(\u001b[0m\u001b[1;34m'display.max_columns'\u001b[0m\u001b[1;33m,\u001b[0m \u001b[1;32mNone\u001b[0m\u001b[1;33m)\u001b[0m\u001b[1;33m\u001b[0m\u001b[1;33m\u001b[0m\u001b[0m\n\u001b[0m\u001b[0;32m      2\u001b[0m \u001b[0mpd\u001b[0m\u001b[1;33m.\u001b[0m\u001b[0mset_option\u001b[0m\u001b[1;33m(\u001b[0m\u001b[1;34m'display.max_rows'\u001b[0m\u001b[1;33m,\u001b[0m \u001b[1;32mNone\u001b[0m\u001b[1;33m)\u001b[0m\u001b[1;33m\u001b[0m\u001b[1;33m\u001b[0m\u001b[0m\n\u001b[0;32m      3\u001b[0m \u001b[1;32mimport\u001b[0m \u001b[0mpandas\u001b[0m \u001b[1;32mas\u001b[0m \u001b[0mpd\u001b[0m\u001b[1;33m\u001b[0m\u001b[1;33m\u001b[0m\u001b[0m\n\u001b[0;32m      4\u001b[0m \u001b[1;32mimport\u001b[0m \u001b[0mnumpy\u001b[0m \u001b[1;32mas\u001b[0m \u001b[0mnp\u001b[0m\u001b[1;33m\u001b[0m\u001b[1;33m\u001b[0m\u001b[0m\n\u001b[0;32m      5\u001b[0m \u001b[1;32mimport\u001b[0m \u001b[0mos\u001b[0m\u001b[1;33m\u001b[0m\u001b[1;33m\u001b[0m\u001b[0m\n",
      "\u001b[1;31mNameError\u001b[0m: name 'pd' is not defined"
     ]
    }
   ],
   "source": [
    "pd.set_option('display.max_columns', None)\n",
    "pd.set_option('display.max_rows', None)\n",
    "import pandas as pd\n",
    "import numpy as np\n",
    "import os"
   ]
  },
  {
   "cell_type": "code",
   "execution_count": null,
   "id": "8d76ee62",
   "metadata": {
    "scrolled": false
   },
   "outputs": [],
   "source": [
    "df = pd.read_excel(r'sample.xlsx', sheet_name='Final Sheet For Approval')\n",
    "df.columns"
   ]
  },
  {
   "cell_type": "code",
   "execution_count": null,
   "id": "d940a2bd",
   "metadata": {},
   "outputs": [],
   "source": [
    "df.head()"
   ]
  },
  {
   "cell_type": "code",
   "execution_count": null,
   "id": "e4b1948c",
   "metadata": {},
   "outputs": [],
   "source": [
    "# temp = df[['TOP-1 POLISH WAIGHT-2','TOP-2 POLISH WAIGHT-2','TOP-3 POLISH WAIGHT','TOP-4 POLISH WAIGHT','TOP-5 POLISH WAIGHT-2', \n",
    "#     'TOP-6 POLISH WAIGHT', 'TOP-7 POLISH WAIGHT', 'TOP-8 POLISH WAIGHT', 'TOP-9 POLISH WAIGHT', 'TOP-10 POLISH WAIGHT',  \n",
    "#     'TOP-11 POLISH WAIGHT', 'TOP-12 POLISH WAIGHT', 'TOP-13 POLISH WAIGHT', 'TOP-14 POLISH WAIGHT', 'TOP-15 POLISH WAIGHT', \n",
    "#     'TOP-16 POLISH WAIGHT', 'TOP-17 POLISH WAIGHT', 'TOP-18 POLISH WAIGHT', 'TOP-19 POLISH WAIGHT', 'TOP-20 POLISH WAIGHT']]"
   ]
  },
  {
   "cell_type": "code",
   "execution_count": null,
   "id": "a3d87e91",
   "metadata": {},
   "outputs": [],
   "source": [
    "df['TOP-5 POLISH WAIGHT-2'].unique()"
   ]
  },
  {
   "cell_type": "code",
   "execution_count": null,
   "id": "f372e303",
   "metadata": {},
   "outputs": [],
   "source": [
    "df['TOP-1 POLISH WAIGHT-2'].replace('(blank)',0,inplace=True)\n",
    "df['TOP-2 POLISH WAIGHT-2'].replace('(blank)',0,inplace=True)\n",
    "df['TOP-3 POLISH WAIGHT'].replace('(blank)',0,inplace=True)\n",
    "df['TOP-4 POLISH WAIGHT'].replace('(blank)',0,inplace=True)\n",
    "df['TOP-5 POLISH WAIGHT-2'].replace('(blank)',0,inplace=True)\n",
    "df['TOP-6 POLISH WAIGHT'].replace('(blank)',0,inplace=True)\n",
    "df['TOP-7 POLISH WAIGHT'].replace('(blank)',0,inplace=True)\n",
    "df['TOP-8 POLISH WAIGHT'].replace('(blank)',0,inplace=True)\n",
    "df['TOP-9 POLISH WAIGHT'].replace('(blank)',0,inplace=True)\n",
    "df['TOP-10 POLISH WAIGHT'].replace('(blank)',0,inplace=True)\n",
    "df['TOP-11 POLISH WAIGHT'].replace('(blank)',0,inplace=True)\n",
    "df['TOP-12 POLISH WAIGHT'].replace('(blank)',0,inplace=True)\n",
    "df['TOP-13 POLISH WAIGHT'].replace('(blank)',0,inplace=True)\n",
    "df['TOP-14 POLISH WAIGHT'].replace('(blank)',0,inplace=True)\n",
    "df['TOP-15 POLISH WAIGHT'].replace('(blank)',0,inplace=True)\n",
    "df['TOP-16 POLISH WAIGHT'].replace('(blank)',0,inplace=True)\n",
    "df['TOP-17 POLISH WAIGHT'].replace('(blank)',0,inplace=True)\n",
    "df['TOP-18 POLISH WAIGHT'].replace('(blank)',0,inplace=True)\n",
    "df['TOP-19 POLISH WAIGHT'].replace('(blank)',0,inplace=True)\n",
    "df['TOP-20 POLISH WAIGHT'].replace('(blank)',0,inplace=True)"
   ]
  },
  {
   "cell_type": "code",
   "execution_count": null,
   "id": "4baf34d2",
   "metadata": {},
   "outputs": [],
   "source": [
    "df['TOP-1 POLISH WAIGHT-2'] = pd.to_numeric(df['TOP-1 POLISH WAIGHT-2'])\n",
    "df['TOP-2 POLISH WAIGHT-2'] = pd.to_numeric(df['TOP-2 POLISH WAIGHT-2'])\n",
    "df['TOP-3 POLISH WAIGHT'] = pd.to_numeric(df['TOP-3 POLISH WAIGHT']) \n",
    "df['TOP-4 POLISH WAIGHT'] = pd.to_numeric(df['TOP-4 POLISH WAIGHT'])\n",
    "df['TOP-5 POLISH WAIGHT-2'] = pd.to_numeric(df['TOP-5 POLISH WAIGHT-2'])\n",
    "df['TOP-6 POLISH WAIGHT'] = pd.to_numeric(df['TOP-6 POLISH WAIGHT'])\n",
    "df['TOP-7 POLISH WAIGHT'] = pd.to_numeric(df['TOP-7 POLISH WAIGHT'])\n",
    "df['TOP-8 POLISH WAIGHT'] = pd.to_numeric(df['TOP-8 POLISH WAIGHT'])\n",
    "df['TOP-9 POLISH WAIGHT'] = pd.to_numeric(df['TOP-9 POLISH WAIGHT'])\n",
    "df['TOP-10 POLISH WAIGHT'] = pd.to_numeric(df['TOP-10 POLISH WAIGHT'])\n",
    "df['TOP-11 POLISH WAIGHT'] = pd.to_numeric(df['TOP-11 POLISH WAIGHT'])\n",
    "df['TOP-12 POLISH WAIGHT'] = pd.to_numeric(df['TOP-12 POLISH WAIGHT'])\n",
    "df['TOP-13 POLISH WAIGHT'] = pd.to_numeric(df['TOP-13 POLISH WAIGHT'])\n",
    "df['TOP-14 POLISH WAIGHT'] = pd.to_numeric(df['TOP-14 POLISH WAIGHT'])\n",
    "df['TOP-15 POLISH WAIGHT'] = pd.to_numeric(df['TOP-15 POLISH WAIGHT'])\n",
    "df['TOP-16 POLISH WAIGHT'] = pd.to_numeric(df['TOP-16 POLISH WAIGHT'])\n",
    "df['TOP-17 POLISH WAIGHT'] = pd.to_numeric(df['TOP-17 POLISH WAIGHT'])\n",
    "df['TOP-18 POLISH WAIGHT'] = pd.to_numeric(df['TOP-18 POLISH WAIGHT'])\n",
    "df['TOP-19 POLISH WAIGHT'] = pd.to_numeric(df['TOP-19 POLISH WAIGHT'])\n",
    "df['TOP-20 POLISH WAIGHT'] = pd.to_numeric(df['TOP-20 POLISH WAIGHT'])"
   ]
  },
  {
   "cell_type": "code",
   "execution_count": null,
   "id": "70a3ce9f",
   "metadata": {},
   "outputs": [],
   "source": [
    "df['TOP-1 POLISH WAIGHT-2'].fillna(0,inplace=True)\n",
    "df['TOP-2 POLISH WAIGHT-2'].fillna(0,inplace=True)\n",
    "df['TOP-3 POLISH WAIGHT'].fillna(0,inplace=True)\n",
    "df['TOP-4 POLISH WAIGHT'].fillna(0,inplace=True)\n",
    "df['TOP-5 POLISH WAIGHT-2'].fillna(0,inplace=True)\n",
    "df['TOP-6 POLISH WAIGHT'].fillna(0,inplace=True)\n",
    "df['TOP-7 POLISH WAIGHT'].fillna(0,inplace=True)\n",
    "df['TOP-8 POLISH WAIGHT'].fillna(0,inplace=True)\n",
    "df['TOP-9 POLISH WAIGHT'].fillna(0,inplace=True)\n",
    "df['TOP-10 POLISH WAIGHT'].fillna(0,inplace=True)\n",
    "df['TOP-11 POLISH WAIGHT'].fillna(0,inplace=True)\n",
    "df['TOP-12 POLISH WAIGHT'].fillna(0,inplace=True)\n",
    "df['TOP-13 POLISH WAIGHT'].fillna(0,inplace=True)\n",
    "df['TOP-14 POLISH WAIGHT'].fillna(0,inplace=True)\n",
    "df['TOP-15 POLISH WAIGHT'].fillna(0,inplace=True)\n",
    "df['TOP-16 POLISH WAIGHT'].fillna(0,inplace=True)\n",
    "df['TOP-17 POLISH WAIGHT'].fillna(0,inplace=True)\n",
    "df['TOP-18 POLISH WAIGHT'].fillna(0,inplace=True)\n",
    "df['TOP-19 POLISH WAIGHT'].fillna(0,inplace=True)\n",
    "df['TOP-20 POLISH WAIGHT'].fillna(0,inplace=True)"
   ]
  },
  {
   "cell_type": "code",
   "execution_count": null,
   "id": "09aa7b2f",
   "metadata": {},
   "outputs": [],
   "source": [
    "df[\"Total_pieces_weight\"] = df['TOP-1 POLISH WAIGHT-2']+df['TOP-2 POLISH WAIGHT-2'] +df['TOP-3 POLISH WAIGHT']+df['TOP-4 POLISH WAIGHT']+ \\\n",
    "              df['TOP-5 POLISH WAIGHT-2']+df['TOP-6 POLISH WAIGHT']+df['TOP-7 POLISH WAIGHT']+df['TOP-8 POLISH WAIGHT']+ \\\n",
    "              df['TOP-9 POLISH WAIGHT']+df['TOP-10 POLISH WAIGHT']+df['TOP-11 POLISH WAIGHT']+df['TOP-12 POLISH WAIGHT']+ \\\n",
    "              df['TOP-13 POLISH WAIGHT']+df['TOP-14 POLISH WAIGHT']+df['TOP-15 POLISH WAIGHT']+df['TOP-16 POLISH WAIGHT']+ \\\n",
    "              df['TOP-17 POLISH WAIGHT']+df['TOP-18 POLISH WAIGHT']+df['TOP-19 POLISH WAIGHT']+df['TOP-20 POLISH WAIGHT']"
   ]
  },
  {
   "cell_type": "code",
   "execution_count": null,
   "id": "63c2b325",
   "metadata": {
    "scrolled": true
   },
   "outputs": [],
   "source": [
    "df[['TOP-1 POLISH WAIGHT-2','TOP-2 POLISH WAIGHT-2','TOP-3 POLISH WAIGHT', 'TOP-4 POLISH WAIGHT', 'TOP-5 POLISH WAIGHT-2', \n",
    "    'TOP-6 POLISH WAIGHT', 'TOP-7 POLISH WAIGHT', 'TOP-8 POLISH WAIGHT', 'TOP-9 POLISH WAIGHT', 'TOP-10 POLISH WAIGHT',  \n",
    "    'TOP-11 POLISH WAIGHT', 'TOP-12 POLISH WAIGHT', 'TOP-13 POLISH WAIGHT', 'TOP-14 POLISH WAIGHT', 'TOP-15 POLISH WAIGHT', \n",
    "    'TOP-16 POLISH WAIGHT', 'TOP-17 POLISH WAIGHT', 'TOP-18 POLISH WAIGHT', 'TOP-19 POLISH WAIGHT', 'TOP-20 POLISH WAIGHT',\n",
    "    'Total_pieces_weight']]"
   ]
  },
  {
   "cell_type": "code",
   "execution_count": null,
   "id": "050dafc8",
   "metadata": {},
   "outputs": [],
   "source": [
    "df.columns"
   ]
  },
  {
   "cell_type": "code",
   "execution_count": null,
   "id": "94e676a0",
   "metadata": {},
   "outputs": [],
   "source": [
    "df_final = df[['BLGD SELECTION', 'BARCODE', 'ROUGH', 'T. POLISH', 'ROUGH GREAD ',\n",
    "       'TOTAL YIELD ', 'TOTAL VALUE', 'TP RCRT', 'TRYld', 'Total_pieces_weight', 'TOP-1 SHAPE NAME',\n",
    "       'TOP-1 POLISH WAIGHT-2', 'TOP-1 CUT GRADE', 'TOP-1 VALUE',\n",
    "       'TOP-2 SHAPE NAME', 'TOP-2 POLISH WAIGHT-2', 'TOP-2 CUT GRADE-2',\n",
    "       'TOP-3 SHAPE NAME', 'TOP-3 POLISH WAIGHT', 'TOP-3 CUT GRADE',\n",
    "       'TOP-4 SHAPE NAME', 'TOP-4 POLISH WAIGHT', 'TOP-4 CUT GRADE',\n",
    "       'TOP-5 SHAPE NAME', 'TOP-5 POLISH WAIGHT-2', 'TOP-5 CUT GRADE-2',\n",
    "       'TOP-6 SHAPE NAME', 'TOP-6 POLISH WAIGHT', 'TOP-6 CUT GRADE',\n",
    "       'TOP-7 SHAPE NAME', 'TOP-7 POLISH WAIGHT', 'TOP-7 CUT GRADE',\n",
    "       'TOP-8 SHAPE NAME', 'TOP-8 POLISH WAIGHT', 'TOP-8 CUT GRADE',\n",
    "       'TOP-9 SHAPE NAME', 'TOP-9 POLISH WAIGHT', 'TOP-9 CUT GRADE',\n",
    "       'TOP-10 SHAPE NAME', 'TOP-10 POLISH WAIGHT', 'TOP-10 CUT GRADE',\n",
    "       'TOP-11 SHAPE NAME', 'TOP-11 POLISH WAIGHT', 'TOP-11 CUT GRADE',\n",
    "       'TOP-12 SHAPE NAME', 'TOP-12 POLISH WAIGHT', 'TOP-12 CUT GRADE',\n",
    "       'TOP-13 SHAPE NAME', 'TOP-13 POLISH WAIGHT', 'TOP-13 CUT GRADE',\n",
    "       'TOP-14 SHAPE NAME', 'TOP-14 POLISH WAIGHT', 'TOP-14 CUT GRADE',\n",
    "       'TOP-15 SHAPE NAME', 'TOP-15 POLISH WAIGHT', 'TOP-15 CUT GRADE',\n",
    "       'TOP-16 SHAPE NAME', 'TOP-16 POLISH WAIGHT', 'TOP-16 CUT GRADE',\n",
    "       'TOP-17 SHAPE NAME', 'TOP-17 POLISH WAIGHT', 'TOP-17 CUT GRADE',\n",
    "       'TOP-18 SHAPE NAME', 'TOP-18 POLISH WAIGHT', 'TOP-18 CUT GRADE',\n",
    "       'TOP-19 SHAPE NAME', 'TOP-19 POLISH WAIGHT', 'TOP-19 CUT GRADE',\n",
    "       'TOP-20 SHAPE NAME', 'TOP-20 POLISH WAIGHT', 'TOP-20 CUT GRADE', '1',\n",
    "       '2', '3', '4', '5', '6', '7', '8', '9', '10', '11', '12', '13', '14',\n",
    "       '15', '16', '17', '18', '19', '20', 'DIAMOND TYP', 'opt', 'Unnamed: 92']]"
   ]
  },
  {
   "cell_type": "code",
   "execution_count": null,
   "id": "32687676",
   "metadata": {},
   "outputs": [],
   "source": [
    "if os.path.exists(\"Analysis.xlsx\"):\n",
    "    os.remove(\"Analysis.xlsx\")\n",
    "    \n",
    "df_final.to_excel(\"Analysis.xlsx\", header=1)"
   ]
  },
  {
   "cell_type": "code",
   "execution_count": null,
   "id": "13ff2b2e",
   "metadata": {},
   "outputs": [],
   "source": []
  }
 ],
 "metadata": {
  "kernelspec": {
   "display_name": "Python 3 (ipykernel)",
   "language": "python",
   "name": "python3"
  },
  "language_info": {
   "codemirror_mode": {
    "name": "ipython",
    "version": 3
   },
   "file_extension": ".py",
   "mimetype": "text/x-python",
   "name": "python",
   "nbconvert_exporter": "python",
   "pygments_lexer": "ipython3",
   "version": "3.9.13"
  }
 },
 "nbformat": 4,
 "nbformat_minor": 5
}
