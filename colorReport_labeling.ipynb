{
 "cells": [
  {
   "cell_type": "code",
   "execution_count": 1,
   "id": "4d461947",
   "metadata": {},
   "outputs": [],
   "source": [
    "import pandas as pd\n",
    "import numpy as np\n",
    "import os\n",
    "\n",
    "from sklearn.preprocessing import LabelEncoder"
   ]
  },
  {
   "cell_type": "code",
   "execution_count": 2,
   "id": "4020f963",
   "metadata": {},
   "outputs": [],
   "source": [
    "mainDF = pd.read_excel(\"Data\\\\September_09\\\\KapanGradingData.xlsx\")"
   ]
  },
  {
   "cell_type": "code",
   "execution_count": 3,
   "id": "33e17c71",
   "metadata": {},
   "outputs": [
    {
     "data": {
      "text/plain": [
       "Index(['#1', 'Month', 'Unit', 'Floor', 'Machine', 'Kapan No', 'Barcode',\n",
       "       'Category', 'Recipe', 'Stop Reasons', 'Ini Cts', 'Initial Color',\n",
       "       'Grading Color', 'Initial Clarity', 'Grading Clarity'],\n",
       "      dtype='object')"
      ]
     },
     "execution_count": 3,
     "metadata": {},
     "output_type": "execute_result"
    }
   ],
   "source": [
    "mainDF.columns"
   ]
  },
  {
   "cell_type": "code",
   "execution_count": 4,
   "id": "fda79118",
   "metadata": {},
   "outputs": [],
   "source": [
    "final_color = mainDF[[\"Machine\",\"Kapan No\",\"Grading Color\",]]\n",
    "final_color = final_color.rename(columns={\"Kapan No\":\"Kapan_No\", \"Grading Color\":\"Grading_Color\"})"
   ]
  },
  {
   "cell_type": "code",
   "execution_count": 5,
   "id": "5f76c521",
   "metadata": {},
   "outputs": [
    {
     "data": {
      "text/html": [
       "<div>\n",
       "<style scoped>\n",
       "    .dataframe tbody tr th:only-of-type {\n",
       "        vertical-align: middle;\n",
       "    }\n",
       "\n",
       "    .dataframe tbody tr th {\n",
       "        vertical-align: top;\n",
       "    }\n",
       "\n",
       "    .dataframe thead th {\n",
       "        text-align: right;\n",
       "    }\n",
       "</style>\n",
       "<table border=\"1\" class=\"dataframe\">\n",
       "  <thead>\n",
       "    <tr style=\"text-align: right;\">\n",
       "      <th></th>\n",
       "      <th>Machine</th>\n",
       "      <th>Kapan_No</th>\n",
       "      <th>Grading_Color</th>\n",
       "    </tr>\n",
       "  </thead>\n",
       "  <tbody>\n",
       "    <tr>\n",
       "      <th>0</th>\n",
       "      <td>CB9</td>\n",
       "      <td>CB9-105</td>\n",
       "      <td>H</td>\n",
       "    </tr>\n",
       "    <tr>\n",
       "      <th>1</th>\n",
       "      <td>CB9</td>\n",
       "      <td>CB9-105</td>\n",
       "      <td>I</td>\n",
       "    </tr>\n",
       "    <tr>\n",
       "      <th>2</th>\n",
       "      <td>CB9</td>\n",
       "      <td>CB9-105</td>\n",
       "      <td>H</td>\n",
       "    </tr>\n",
       "    <tr>\n",
       "      <th>3</th>\n",
       "      <td>CB9</td>\n",
       "      <td>CB9-105</td>\n",
       "      <td>H</td>\n",
       "    </tr>\n",
       "    <tr>\n",
       "      <th>4</th>\n",
       "      <td>CB9</td>\n",
       "      <td>CB9-105</td>\n",
       "      <td>H</td>\n",
       "    </tr>\n",
       "    <tr>\n",
       "      <th>...</th>\n",
       "      <td>...</td>\n",
       "      <td>...</td>\n",
       "      <td>...</td>\n",
       "    </tr>\n",
       "    <tr>\n",
       "      <th>51693</th>\n",
       "      <td>AG48</td>\n",
       "      <td>AG48-3</td>\n",
       "      <td>H</td>\n",
       "    </tr>\n",
       "    <tr>\n",
       "      <th>51694</th>\n",
       "      <td>AG48</td>\n",
       "      <td>AG48-3</td>\n",
       "      <td>H</td>\n",
       "    </tr>\n",
       "    <tr>\n",
       "      <th>51695</th>\n",
       "      <td>AG48</td>\n",
       "      <td>AG48-3</td>\n",
       "      <td>H</td>\n",
       "    </tr>\n",
       "    <tr>\n",
       "      <th>51696</th>\n",
       "      <td>AG48</td>\n",
       "      <td>AG48-3</td>\n",
       "      <td>I</td>\n",
       "    </tr>\n",
       "    <tr>\n",
       "      <th>51697</th>\n",
       "      <td>NaN</td>\n",
       "      <td>NaN</td>\n",
       "      <td>NaN</td>\n",
       "    </tr>\n",
       "  </tbody>\n",
       "</table>\n",
       "<p>51698 rows × 3 columns</p>\n",
       "</div>"
      ],
      "text/plain": [
       "      Machine Kapan_No Grading_Color\n",
       "0         CB9  CB9-105             H\n",
       "1         CB9  CB9-105             I\n",
       "2         CB9  CB9-105             H\n",
       "3         CB9  CB9-105             H\n",
       "4         CB9  CB9-105             H\n",
       "...       ...      ...           ...\n",
       "51693    AG48   AG48-3             H\n",
       "51694    AG48   AG48-3             H\n",
       "51695    AG48   AG48-3             H\n",
       "51696    AG48   AG48-3             I\n",
       "51697     NaN      NaN           NaN\n",
       "\n",
       "[51698 rows x 3 columns]"
      ]
     },
     "execution_count": 5,
     "metadata": {},
     "output_type": "execute_result"
    }
   ],
   "source": [
    "final_color"
   ]
  },
  {
   "cell_type": "code",
   "execution_count": 6,
   "id": "f155d095",
   "metadata": {},
   "outputs": [
    {
     "data": {
      "text/plain": [
       "Machine          1\n",
       "Kapan_No         1\n",
       "Grading_Color    1\n",
       "dtype: int64"
      ]
     },
     "execution_count": 6,
     "metadata": {},
     "output_type": "execute_result"
    }
   ],
   "source": [
    "final_color.isnull().sum()"
   ]
  },
  {
   "cell_type": "code",
   "execution_count": 7,
   "id": "de46c40a",
   "metadata": {},
   "outputs": [],
   "source": [
    "final_color = final_color.dropna()"
   ]
  },
  {
   "cell_type": "code",
   "execution_count": 8,
   "id": "5944258e",
   "metadata": {},
   "outputs": [
    {
     "data": {
      "text/plain": [
       "Machine          0\n",
       "Kapan_No         0\n",
       "Grading_Color    0\n",
       "dtype: int64"
      ]
     },
     "execution_count": 8,
     "metadata": {},
     "output_type": "execute_result"
    }
   ],
   "source": [
    "final_color.isnull().sum()"
   ]
  },
  {
   "cell_type": "code",
   "execution_count": 9,
   "id": "e3840318",
   "metadata": {},
   "outputs": [
    {
     "data": {
      "text/plain": [
       "Machine          1026\n",
       "Kapan_No         3914\n",
       "Grading_Color       7\n",
       "dtype: int64"
      ]
     },
     "execution_count": 9,
     "metadata": {},
     "output_type": "execute_result"
    }
   ],
   "source": [
    "final_color.nunique()"
   ]
  },
  {
   "cell_type": "code",
   "execution_count": 10,
   "id": "152ba211",
   "metadata": {},
   "outputs": [
    {
     "data": {
      "text/plain": [
       "array(['H', 'I', 'J', 'N', 'K', 'L', 'M'], dtype=object)"
      ]
     },
     "execution_count": 10,
     "metadata": {},
     "output_type": "execute_result"
    }
   ],
   "source": [
    "final_color.Grading_Color.unique()"
   ]
  },
  {
   "cell_type": "code",
   "execution_count": 11,
   "id": "96cd264c",
   "metadata": {},
   "outputs": [],
   "source": [
    "le = LabelEncoder()"
   ]
  },
  {
   "cell_type": "code",
   "execution_count": 12,
   "id": "f6c9d5f8",
   "metadata": {},
   "outputs": [
    {
     "name": "stderr",
     "output_type": "stream",
     "text": [
      "C:\\Users\\Administrator\\AppData\\Local\\Temp\\ipykernel_4028\\1260053966.py:1: SettingWithCopyWarning: \n",
      "A value is trying to be set on a copy of a slice from a DataFrame.\n",
      "Try using .loc[row_indexer,col_indexer] = value instead\n",
      "\n",
      "See the caveats in the documentation: https://pandas.pydata.org/pandas-docs/stable/user_guide/indexing.html#returning-a-view-versus-a-copy\n",
      "  final_color[\"color_rank\"] = le.fit_transform(final_color[\"Grading_Color\"])\n",
      "C:\\Users\\Administrator\\AppData\\Local\\Temp\\ipykernel_4028\\1260053966.py:2: SettingWithCopyWarning: \n",
      "A value is trying to be set on a copy of a slice from a DataFrame.\n",
      "Try using .loc[row_indexer,col_indexer] = value instead\n",
      "\n",
      "See the caveats in the documentation: https://pandas.pydata.org/pandas-docs/stable/user_guide/indexing.html#returning-a-view-versus-a-copy\n",
      "  final_color[\"color_rank\"] += 1\n"
     ]
    }
   ],
   "source": [
    "final_color[\"color_rank\"] = le.fit_transform(final_color[\"Grading_Color\"])\n",
    "final_color[\"color_rank\"] += 1"
   ]
  },
  {
   "cell_type": "code",
   "execution_count": 13,
   "id": "090c6dc4",
   "metadata": {},
   "outputs": [
    {
     "data": {
      "text/plain": [
       "array([1, 2, 3, 7, 4, 5, 6])"
      ]
     },
     "execution_count": 13,
     "metadata": {},
     "output_type": "execute_result"
    }
   ],
   "source": [
    "final_color.color_rank.unique()"
   ]
  },
  {
   "cell_type": "code",
   "execution_count": 14,
   "id": "037f9055",
   "metadata": {},
   "outputs": [
    {
     "data": {
      "text/html": [
       "<div>\n",
       "<style scoped>\n",
       "    .dataframe tbody tr th:only-of-type {\n",
       "        vertical-align: middle;\n",
       "    }\n",
       "\n",
       "    .dataframe tbody tr th {\n",
       "        vertical-align: top;\n",
       "    }\n",
       "\n",
       "    .dataframe thead th {\n",
       "        text-align: right;\n",
       "    }\n",
       "</style>\n",
       "<table border=\"1\" class=\"dataframe\">\n",
       "  <thead>\n",
       "    <tr style=\"text-align: right;\">\n",
       "      <th></th>\n",
       "      <th>Machine</th>\n",
       "      <th>Kapan_No</th>\n",
       "      <th>Grading_Color</th>\n",
       "      <th>color_rank</th>\n",
       "    </tr>\n",
       "  </thead>\n",
       "  <tbody>\n",
       "    <tr>\n",
       "      <th>0</th>\n",
       "      <td>CB9</td>\n",
       "      <td>CB9-105</td>\n",
       "      <td>H</td>\n",
       "      <td>1</td>\n",
       "    </tr>\n",
       "    <tr>\n",
       "      <th>1</th>\n",
       "      <td>CB9</td>\n",
       "      <td>CB9-105</td>\n",
       "      <td>I</td>\n",
       "      <td>2</td>\n",
       "    </tr>\n",
       "    <tr>\n",
       "      <th>2</th>\n",
       "      <td>CB9</td>\n",
       "      <td>CB9-105</td>\n",
       "      <td>H</td>\n",
       "      <td>1</td>\n",
       "    </tr>\n",
       "    <tr>\n",
       "      <th>3</th>\n",
       "      <td>CB9</td>\n",
       "      <td>CB9-105</td>\n",
       "      <td>H</td>\n",
       "      <td>1</td>\n",
       "    </tr>\n",
       "    <tr>\n",
       "      <th>4</th>\n",
       "      <td>CB9</td>\n",
       "      <td>CB9-105</td>\n",
       "      <td>H</td>\n",
       "      <td>1</td>\n",
       "    </tr>\n",
       "    <tr>\n",
       "      <th>...</th>\n",
       "      <td>...</td>\n",
       "      <td>...</td>\n",
       "      <td>...</td>\n",
       "      <td>...</td>\n",
       "    </tr>\n",
       "    <tr>\n",
       "      <th>51692</th>\n",
       "      <td>AG48</td>\n",
       "      <td>AG48-3</td>\n",
       "      <td>H</td>\n",
       "      <td>1</td>\n",
       "    </tr>\n",
       "    <tr>\n",
       "      <th>51693</th>\n",
       "      <td>AG48</td>\n",
       "      <td>AG48-3</td>\n",
       "      <td>H</td>\n",
       "      <td>1</td>\n",
       "    </tr>\n",
       "    <tr>\n",
       "      <th>51694</th>\n",
       "      <td>AG48</td>\n",
       "      <td>AG48-3</td>\n",
       "      <td>H</td>\n",
       "      <td>1</td>\n",
       "    </tr>\n",
       "    <tr>\n",
       "      <th>51695</th>\n",
       "      <td>AG48</td>\n",
       "      <td>AG48-3</td>\n",
       "      <td>H</td>\n",
       "      <td>1</td>\n",
       "    </tr>\n",
       "    <tr>\n",
       "      <th>51696</th>\n",
       "      <td>AG48</td>\n",
       "      <td>AG48-3</td>\n",
       "      <td>I</td>\n",
       "      <td>2</td>\n",
       "    </tr>\n",
       "  </tbody>\n",
       "</table>\n",
       "<p>51697 rows × 4 columns</p>\n",
       "</div>"
      ],
      "text/plain": [
       "      Machine Kapan_No Grading_Color  color_rank\n",
       "0         CB9  CB9-105             H           1\n",
       "1         CB9  CB9-105             I           2\n",
       "2         CB9  CB9-105             H           1\n",
       "3         CB9  CB9-105             H           1\n",
       "4         CB9  CB9-105             H           1\n",
       "...       ...      ...           ...         ...\n",
       "51692    AG48   AG48-3             H           1\n",
       "51693    AG48   AG48-3             H           1\n",
       "51694    AG48   AG48-3             H           1\n",
       "51695    AG48   AG48-3             H           1\n",
       "51696    AG48   AG48-3             I           2\n",
       "\n",
       "[51697 rows x 4 columns]"
      ]
     },
     "execution_count": 14,
     "metadata": {},
     "output_type": "execute_result"
    }
   ],
   "source": [
    "final_color"
   ]
  },
  {
   "cell_type": "code",
   "execution_count": 15,
   "id": "8d2cdb50",
   "metadata": {},
   "outputs": [],
   "source": [
    "if(final_color.index[0]==0):\n",
    "    final_color.index += 1"
   ]
  },
  {
   "cell_type": "code",
   "execution_count": 17,
   "id": "3321a0fd",
   "metadata": {},
   "outputs": [],
   "source": [
    "if os.path.exists(\"colorReport_1.xlsx\"):\n",
    "    os.remove(\"colorReport_1.xlsx\")\n",
    "    \n",
    "final_color.to_excel(\"colorReport_1.xlsx\",index_label=\"ID\",header=1)"
   ]
  },
  {
   "cell_type": "code",
   "execution_count": null,
   "id": "f8d67599",
   "metadata": {},
   "outputs": [],
   "source": []
  }
 ],
 "metadata": {
  "kernelspec": {
   "display_name": "Python 3 (ipykernel)",
   "language": "python",
   "name": "python3"
  },
  "language_info": {
   "codemirror_mode": {
    "name": "ipython",
    "version": 3
   },
   "file_extension": ".py",
   "mimetype": "text/x-python",
   "name": "python",
   "nbconvert_exporter": "python",
   "pygments_lexer": "ipython3",
   "version": "3.9.13"
  }
 },
 "nbformat": 4,
 "nbformat_minor": 5
}
