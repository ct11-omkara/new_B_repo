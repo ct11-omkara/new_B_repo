{
 "cells": [
  {
   "cell_type": "code",
   "execution_count": 22,
   "id": "4d461947",
   "metadata": {},
   "outputs": [],
   "source": [
    "import pandas as pd\n",
    "import numpy as np\n",
    "import os\n",
    "from collections import Counter\n",
    "\n",
    "from sklearn.preprocessing import LabelEncoder"
   ]
  },
  {
   "cell_type": "code",
   "execution_count": 2,
   "id": "4020f963",
   "metadata": {},
   "outputs": [],
   "source": [
    "mainDF = pd.read_excel(\"Data\\\\September_09\\\\KapanGradingData.xlsx\")"
   ]
  },
  {
   "cell_type": "code",
   "execution_count": 3,
   "id": "33e17c71",
   "metadata": {},
   "outputs": [
    {
     "data": {
      "text/plain": [
       "Index(['#1', 'Month', 'Unit', 'Floor', 'Machine', 'Kapan No', 'Barcode',\n",
       "       'Category', 'Recipe', 'Stop Reasons', 'Ini Cts', 'Initial Color',\n",
       "       'Grading Color', 'Initial Clarity', 'Grading Clarity'],\n",
       "      dtype='object')"
      ]
     },
     "execution_count": 3,
     "metadata": {},
     "output_type": "execute_result"
    }
   ],
   "source": [
    "mainDF.columns"
   ]
  },
  {
   "cell_type": "code",
   "execution_count": 4,
   "id": "fda79118",
   "metadata": {},
   "outputs": [],
   "source": [
    "final_color = mainDF[[\"Machine\",\"Grading Color\",]]\n",
    "final_color = final_color.rename(columns={\"Grading Color\":\"Grading_Color\"})"
   ]
  },
  {
   "cell_type": "code",
   "execution_count": 5,
   "id": "5f76c521",
   "metadata": {},
   "outputs": [
    {
     "data": {
      "text/html": [
       "<div>\n",
       "<style scoped>\n",
       "    .dataframe tbody tr th:only-of-type {\n",
       "        vertical-align: middle;\n",
       "    }\n",
       "\n",
       "    .dataframe tbody tr th {\n",
       "        vertical-align: top;\n",
       "    }\n",
       "\n",
       "    .dataframe thead th {\n",
       "        text-align: right;\n",
       "    }\n",
       "</style>\n",
       "<table border=\"1\" class=\"dataframe\">\n",
       "  <thead>\n",
       "    <tr style=\"text-align: right;\">\n",
       "      <th></th>\n",
       "      <th>Machine</th>\n",
       "      <th>Grading_Color</th>\n",
       "    </tr>\n",
       "  </thead>\n",
       "  <tbody>\n",
       "    <tr>\n",
       "      <th>0</th>\n",
       "      <td>CB9</td>\n",
       "      <td>H</td>\n",
       "    </tr>\n",
       "    <tr>\n",
       "      <th>1</th>\n",
       "      <td>CB9</td>\n",
       "      <td>I</td>\n",
       "    </tr>\n",
       "    <tr>\n",
       "      <th>2</th>\n",
       "      <td>CB9</td>\n",
       "      <td>H</td>\n",
       "    </tr>\n",
       "    <tr>\n",
       "      <th>3</th>\n",
       "      <td>CB9</td>\n",
       "      <td>H</td>\n",
       "    </tr>\n",
       "    <tr>\n",
       "      <th>4</th>\n",
       "      <td>CB9</td>\n",
       "      <td>H</td>\n",
       "    </tr>\n",
       "    <tr>\n",
       "      <th>...</th>\n",
       "      <td>...</td>\n",
       "      <td>...</td>\n",
       "    </tr>\n",
       "    <tr>\n",
       "      <th>51693</th>\n",
       "      <td>AG48</td>\n",
       "      <td>H</td>\n",
       "    </tr>\n",
       "    <tr>\n",
       "      <th>51694</th>\n",
       "      <td>AG48</td>\n",
       "      <td>H</td>\n",
       "    </tr>\n",
       "    <tr>\n",
       "      <th>51695</th>\n",
       "      <td>AG48</td>\n",
       "      <td>H</td>\n",
       "    </tr>\n",
       "    <tr>\n",
       "      <th>51696</th>\n",
       "      <td>AG48</td>\n",
       "      <td>I</td>\n",
       "    </tr>\n",
       "    <tr>\n",
       "      <th>51697</th>\n",
       "      <td>NaN</td>\n",
       "      <td>NaN</td>\n",
       "    </tr>\n",
       "  </tbody>\n",
       "</table>\n",
       "<p>51698 rows × 2 columns</p>\n",
       "</div>"
      ],
      "text/plain": [
       "      Machine Grading_Color\n",
       "0         CB9             H\n",
       "1         CB9             I\n",
       "2         CB9             H\n",
       "3         CB9             H\n",
       "4         CB9             H\n",
       "...       ...           ...\n",
       "51693    AG48             H\n",
       "51694    AG48             H\n",
       "51695    AG48             H\n",
       "51696    AG48             I\n",
       "51697     NaN           NaN\n",
       "\n",
       "[51698 rows x 2 columns]"
      ]
     },
     "execution_count": 5,
     "metadata": {},
     "output_type": "execute_result"
    }
   ],
   "source": [
    "final_color."
   ]
  },
  {
   "cell_type": "code",
   "execution_count": 6,
   "id": "f155d095",
   "metadata": {},
   "outputs": [
    {
     "data": {
      "text/plain": [
       "Machine          1\n",
       "Grading_Color    1\n",
       "dtype: int64"
      ]
     },
     "execution_count": 6,
     "metadata": {},
     "output_type": "execute_result"
    }
   ],
   "source": [
    "final_color.isnull().sum()"
   ]
  },
  {
   "cell_type": "code",
   "execution_count": 7,
   "id": "de46c40a",
   "metadata": {},
   "outputs": [],
   "source": [
    "final_color = final_color.dropna()"
   ]
  },
  {
   "cell_type": "code",
   "execution_count": 8,
   "id": "5944258e",
   "metadata": {},
   "outputs": [
    {
     "data": {
      "text/plain": [
       "Machine          0\n",
       "Grading_Color    0\n",
       "dtype: int64"
      ]
     },
     "execution_count": 8,
     "metadata": {},
     "output_type": "execute_result"
    }
   ],
   "source": [
    "final_color.isnull().sum()"
   ]
  },
  {
   "cell_type": "code",
   "execution_count": 9,
   "id": "e3840318",
   "metadata": {},
   "outputs": [
    {
     "data": {
      "text/plain": [
       "Machine          1026\n",
       "Grading_Color       7\n",
       "dtype: int64"
      ]
     },
     "execution_count": 9,
     "metadata": {},
     "output_type": "execute_result"
    }
   ],
   "source": [
    "final_color.nunique()"
   ]
  },
  {
   "cell_type": "code",
   "execution_count": 10,
   "id": "152ba211",
   "metadata": {},
   "outputs": [
    {
     "data": {
      "text/plain": [
       "array(['H', 'I', 'J', 'N', 'K', 'L', 'M'], dtype=object)"
      ]
     },
     "execution_count": 10,
     "metadata": {},
     "output_type": "execute_result"
    }
   ],
   "source": [
    "final_color.Grading_Color.unique()"
   ]
  },
  {
   "cell_type": "code",
   "execution_count": 17,
   "id": "df45f022",
   "metadata": {},
   "outputs": [],
   "source": [
    "final_color = final_color.groupby([\"Machine\"])[\"Grading_Color\"].agg(lambda x: ','.join(x.dropna())).reset_index()"
   ]
  },
  {
   "cell_type": "code",
   "execution_count": 19,
   "id": "0d69c632",
   "metadata": {},
   "outputs": [
    {
     "data": {
      "text/html": [
       "<div>\n",
       "<style scoped>\n",
       "    .dataframe tbody tr th:only-of-type {\n",
       "        vertical-align: middle;\n",
       "    }\n",
       "\n",
       "    .dataframe tbody tr th {\n",
       "        vertical-align: top;\n",
       "    }\n",
       "\n",
       "    .dataframe thead th {\n",
       "        text-align: right;\n",
       "    }\n",
       "</style>\n",
       "<table border=\"1\" class=\"dataframe\">\n",
       "  <thead>\n",
       "    <tr style=\"text-align: right;\">\n",
       "      <th></th>\n",
       "      <th>Machine</th>\n",
       "      <th>Grading_Color</th>\n",
       "    </tr>\n",
       "  </thead>\n",
       "  <tbody>\n",
       "    <tr>\n",
       "      <th>0</th>\n",
       "      <td>AA1</td>\n",
       "      <td>H,H,H,H,H,H,H,H,H,H,H,H,H,H,H,H,H,H,H,H,H,H,H,...</td>\n",
       "    </tr>\n",
       "    <tr>\n",
       "      <th>1</th>\n",
       "      <td>AA10</td>\n",
       "      <td>H,H,H,H,H,H,H,I,H,H,H,H,H,H,I,I,I,H,H,H,H,H,H,...</td>\n",
       "    </tr>\n",
       "    <tr>\n",
       "      <th>2</th>\n",
       "      <td>AA11</td>\n",
       "      <td>H,H,H,I,I,I,I,I,I,H,H,I,I,I,H,H,H,I,I,H,H,H,H,...</td>\n",
       "    </tr>\n",
       "    <tr>\n",
       "      <th>3</th>\n",
       "      <td>AA12</td>\n",
       "      <td>H,H,H,H,I,H,H,H,H,I,I,I,I,H,H,H,H,H,H,H,I,H,H,...</td>\n",
       "    </tr>\n",
       "    <tr>\n",
       "      <th>4</th>\n",
       "      <td>AA13</td>\n",
       "      <td>I,I,H,H,H,H,H,H,H,H,H,I,H,H,I,H,I,H,H,H,H,H,H,...</td>\n",
       "    </tr>\n",
       "  </tbody>\n",
       "</table>\n",
       "</div>"
      ],
      "text/plain": [
       "  Machine                                      Grading_Color\n",
       "0     AA1  H,H,H,H,H,H,H,H,H,H,H,H,H,H,H,H,H,H,H,H,H,H,H,...\n",
       "1    AA10  H,H,H,H,H,H,H,I,H,H,H,H,H,H,I,I,I,H,H,H,H,H,H,...\n",
       "2    AA11  H,H,H,I,I,I,I,I,I,H,H,I,I,I,H,H,H,I,I,H,H,H,H,...\n",
       "3    AA12  H,H,H,H,I,H,H,H,H,I,I,I,I,H,H,H,H,H,H,H,I,H,H,...\n",
       "4    AA13  I,I,H,H,H,H,H,H,H,H,H,I,H,H,I,H,I,H,H,H,H,H,H,..."
      ]
     },
     "execution_count": 19,
     "metadata": {},
     "output_type": "execute_result"
    }
   ],
   "source": [
    "final_color.head()"
   ]
  },
  {
   "cell_type": "code",
   "execution_count": 23,
   "id": "1a284da7",
   "metadata": {},
   "outputs": [],
   "source": [
    "final_color[\"color_counts\"] = final_color[\"Grading_Color\"].str.split(',')\n",
    "final_color[\"color_counts\"] = final_color[\"color_counts\"].apply(lambda x: Counter(x))\n",
    "final_color[\"color_counts\"] = final_color[\"color_counts\"].apply(lambda x: dict(x))"
   ]
  },
  {
   "cell_type": "code",
   "execution_count": 44,
   "id": "ed93d627",
   "metadata": {},
   "outputs": [
    {
     "data": {
      "text/html": [
       "<div>\n",
       "<style scoped>\n",
       "    .dataframe tbody tr th:only-of-type {\n",
       "        vertical-align: middle;\n",
       "    }\n",
       "\n",
       "    .dataframe tbody tr th {\n",
       "        vertical-align: top;\n",
       "    }\n",
       "\n",
       "    .dataframe thead th {\n",
       "        text-align: right;\n",
       "    }\n",
       "</style>\n",
       "<table border=\"1\" class=\"dataframe\">\n",
       "  <thead>\n",
       "    <tr style=\"text-align: right;\">\n",
       "      <th></th>\n",
       "      <th>Machine</th>\n",
       "      <th>color_counts</th>\n",
       "    </tr>\n",
       "  </thead>\n",
       "  <tbody>\n",
       "    <tr>\n",
       "      <th>1</th>\n",
       "      <td>AA1</td>\n",
       "      <td>{'H': 32, 'I': 3}</td>\n",
       "    </tr>\n",
       "    <tr>\n",
       "      <th>2</th>\n",
       "      <td>AA10</td>\n",
       "      <td>{'H': 49, 'I': 10}</td>\n",
       "    </tr>\n",
       "    <tr>\n",
       "      <th>3</th>\n",
       "      <td>AA11</td>\n",
       "      <td>{'H': 48, 'I': 17}</td>\n",
       "    </tr>\n",
       "    <tr>\n",
       "      <th>4</th>\n",
       "      <td>AA12</td>\n",
       "      <td>{'H': 42, 'I': 9}</td>\n",
       "    </tr>\n",
       "    <tr>\n",
       "      <th>5</th>\n",
       "      <td>AA13</td>\n",
       "      <td>{'I': 8, 'H': 36}</td>\n",
       "    </tr>\n",
       "    <tr>\n",
       "      <th>...</th>\n",
       "      <td>...</td>\n",
       "      <td>...</td>\n",
       "    </tr>\n",
       "    <tr>\n",
       "      <th>1022</th>\n",
       "      <td>CC16</td>\n",
       "      <td>{'H': 46, 'I': 8}</td>\n",
       "    </tr>\n",
       "    <tr>\n",
       "      <th>1023</th>\n",
       "      <td>CC17</td>\n",
       "      <td>{'H': 39, 'I': 15, 'J': 2}</td>\n",
       "    </tr>\n",
       "    <tr>\n",
       "      <th>1024</th>\n",
       "      <td>CC20</td>\n",
       "      <td>{'H': 32, 'I': 9, 'J': 1}</td>\n",
       "    </tr>\n",
       "    <tr>\n",
       "      <th>1025</th>\n",
       "      <td>CC21</td>\n",
       "      <td>{'I': 15, 'H': 38, 'J': 1}</td>\n",
       "    </tr>\n",
       "    <tr>\n",
       "      <th>1026</th>\n",
       "      <td>CC22</td>\n",
       "      <td>{'H': 9, 'I': 15, 'J': 4}</td>\n",
       "    </tr>\n",
       "  </tbody>\n",
       "</table>\n",
       "<p>1026 rows × 2 columns</p>\n",
       "</div>"
      ],
      "text/plain": [
       "     Machine                color_counts\n",
       "1        AA1           {'H': 32, 'I': 3}\n",
       "2       AA10          {'H': 49, 'I': 10}\n",
       "3       AA11          {'H': 48, 'I': 17}\n",
       "4       AA12           {'H': 42, 'I': 9}\n",
       "5       AA13           {'I': 8, 'H': 36}\n",
       "...      ...                         ...\n",
       "1022    CC16           {'H': 46, 'I': 8}\n",
       "1023    CC17  {'H': 39, 'I': 15, 'J': 2}\n",
       "1024    CC20   {'H': 32, 'I': 9, 'J': 1}\n",
       "1025    CC21  {'I': 15, 'H': 38, 'J': 1}\n",
       "1026    CC22   {'H': 9, 'I': 15, 'J': 4}\n",
       "\n",
       "[1026 rows x 2 columns]"
      ]
     },
     "execution_count": 44,
     "metadata": {},
     "output_type": "execute_result"
    }
   ],
   "source": [
    "final_color"
   ]
  },
  {
   "cell_type": "code",
   "execution_count": 26,
   "id": "9ac46f97",
   "metadata": {},
   "outputs": [],
   "source": [
    "final_color = final_color[[\"Machine\", \"color_counts\"]]"
   ]
  },
  {
   "cell_type": "code",
   "execution_count": 41,
   "id": "0d585a34",
   "metadata": {},
   "outputs": [],
   "source": [
    "if final_color.index[0] == 0:\n",
    "    final_color.index += 1"
   ]
  },
  {
   "cell_type": "code",
   "execution_count": 42,
   "id": "ce17f19d",
   "metadata": {},
   "outputs": [],
   "source": [
    "if os.path.exists(\"colorReport_2.xlsx\"):\n",
    "    os.remove(\"colorReport_2.xlsx\")\n",
    "    \n",
    "final_color.to_excel(\"colorReport_2.xlsx\", header=1, index_label=\"ID\")"
   ]
  },
  {
   "cell_type": "code",
   "execution_count": null,
   "id": "f8d67599",
   "metadata": {},
   "outputs": [],
   "source": []
  },
  {
   "cell_type": "code",
   "execution_count": null,
   "id": "0c708558",
   "metadata": {},
   "outputs": [],
   "source": []
  }
 ],
 "metadata": {
  "kernelspec": {
   "display_name": "Python 3 (ipykernel)",
   "language": "python",
   "name": "python3"
  },
  "language_info": {
   "codemirror_mode": {
    "name": "ipython",
    "version": 3
   },
   "file_extension": ".py",
   "mimetype": "text/x-python",
   "name": "python",
   "nbconvert_exporter": "python",
   "pygments_lexer": "ipython3",
   "version": "3.9.13"
  }
 },
 "nbformat": 4,
 "nbformat_minor": 5
}
